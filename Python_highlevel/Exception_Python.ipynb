{
 "cells": [
  {
   "cell_type": "markdown",
   "metadata": {},
   "source": [
    "### 异常处理\n",
    "- Python的异常跟其他的语言很像，给出几种可能出错的情况，然后预先给出解决方案。但是语法不一样。\n",
    "- 语法：\n",
    "    - try：后面放要执行的代码\n",
    "    - except：后面放出错的可能和预先的处理（可有可无，可少可多）\n",
    "    - else：如果没有错执行else后面语句\n",
    "    - finally：是不过出没出错都执行\n",
    "    \n",
    "- 所有的异常都是继承exception的，所以当你不知道可能出现什么错的时候，可以在最后加一句except：exception。这时候不管什么错误都给你拦住，贼厉害。\n",
    "\n",
    "\n"
   ]
  },
  {
   "cell_type": "code",
   "execution_count": 3,
   "metadata": {},
   "outputs": [
    {
     "name": "stdout",
     "output_type": "stream",
     "text": [
      "please,input a number:0\n",
      "the number can't be 0\n"
     ]
    }
   ],
   "source": [
    "try:\n",
    "    num = int(input(\"please,input a number:\"))\n",
    "    result = 100/num\n",
    "    print(\"the result is :{0}\".format(result))\n",
    "    \n",
    "\n",
    "# 因为是除法，要小心用户输入的除数是不是0\n",
    "except:\n",
    "    print(\"the number can't be 0\")\n",
    "    \n",
    "    \n",
    "    \n",
    "    "
   ]
  },
  {
   "cell_type": "code",
   "execution_count": 5,
   "metadata": {},
   "outputs": [
    {
     "name": "stdout",
     "output_type": "stream",
     "text": [
      "please,input a number:0\n",
      "the number can't be 0\n",
      "division by zero\n"
     ]
    }
   ],
   "source": [
    "try:\n",
    "    num = int(input(\"please,input a number:\"))\n",
    "    result = 100/num\n",
    "    print(\"the result is :{0}\".format(result))\n",
    "    \n",
    "\n",
    "# 因为是除法，要小心用户输入的除数是不是0\n",
    "# 可以将错误的信息打印出来\n",
    "except ZeroDivisionError as e:\n",
    "    print(\"the number can't be 0\")\n",
    "    print(e)\n",
    "\n",
    "#最后的防线，拦住所有的异常\n",
    "except Exception as e:\n",
    "    print(e)"
   ]
  },
  {
   "cell_type": "markdown",
   "metadata": {},
   "source": [
    "### 用户可以手动抛出异常\n",
    "- 用raise 来抛出异常"
   ]
  },
  {
   "cell_type": "code",
   "execution_count": 6,
   "metadata": {},
   "outputs": [
    {
     "name": "stdout",
     "output_type": "stream",
     "text": [
      "first\n",
      "the number can't be 0\n",
      "\n"
     ]
    }
   ],
   "source": [
    "try:\n",
    "    print(\"first\")\n",
    "    \n",
    "    #手动抛出异常\n",
    "    raise ZeroDivisionError\n",
    "    \n",
    "    #抛出异常后直接跳去了except里面去了\n",
    "    print(\"second\")\n",
    "except ZeroDivisionError as e:\n",
    "    print(\"the number can't be 0\")\n",
    "    print(e)\n",
    "\n",
    "#最后的防线，拦住所有的异常\n",
    "except Exception as e:\n",
    "    print(e)"
   ]
  }
 ],
 "metadata": {
  "kernelspec": {
   "display_name": "Python 3",
   "language": "python",
   "name": "python3"
  },
  "language_info": {
   "codemirror_mode": {
    "name": "ipython",
    "version": 3
   },
   "file_extension": ".py",
   "mimetype": "text/x-python",
   "name": "python",
   "nbconvert_exporter": "python",
   "pygments_lexer": "ipython3",
   "version": "3.6.4"
  }
 },
 "nbformat": 4,
 "nbformat_minor": 2
}
