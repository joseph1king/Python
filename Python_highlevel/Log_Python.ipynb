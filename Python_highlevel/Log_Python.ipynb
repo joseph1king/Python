{
 "cells": [
  {
   "cell_type": "markdown",
   "metadata": {},
   "source": [
    "### log\n",
    "- 日志的意义\n",
    "    - 用来进行程序的调试\n",
    "    - 用来进行故障的定位\n",
    "    - 用来进行程序的运行状况。有的时候都能根据运行状况来分析用户。\n",
    "- 日志包含的内容\n",
    "    - 时间（发生故障的时间）\n",
    "    - 地点（发生故障的位置）\n",
    "    - 等级（故障的等级）\n",
    "    - 内容（故障的内容）\n",
    " \n",
    "- 日志的级别\n",
    "    - debug\n",
    "    - info\n",
    "    - warning\n",
    "    - error\n",
    "    - critical\n",
    "    - emergency"
   ]
  },
  {
   "cell_type": "markdown",
   "metadata": {},
   "source": [
    "### Python中的日志模块logging\n",
    "- logging模块使用的时候要先import一下\n",
    "    - import logging\n",
    "- logging中各个级别信息的定义方法（摘抄来的，格式都大同小异）\n",
    "    - logging.debug(msg, *args, ** kwargs) 创建一条严重级别为DEBUG的日志记录\n",
    "    - logging.info(msg, *args, ** kwargs) 创建一条严重级别为INFO的日志记录\n",
    "    - logging.warning(msg, *args, ** kwargs) 创建一条严重级别为WARNING的日志记录\n",
    "    - logging.error(msg, *args, ** kwargs) 创建一条严重级别为ERROR的日志记录\n",
    "    - logging.critical(msg, * args, ** kwargs) 创建一条严重级别为CRITICAL的日志记录\n",
    "    - logging.log(level, * args, ** kwargs) 创建一条严重级别为level的日志记录\n",
    "    - logging.basicConfig(** kwargs) 对root logger进行一次性配置\n",
    "- logging在写的时候需要提前进行配置logger，如果不配置也行，只不系统有默认的配置\n",
    "    - 默认的输出在sys.strerr (standard error)\n",
    "    - 默认只记录warning以上级别的信息\n",
    "    - 默认的显示形式是：log_level:log_name:content\n",
    "    - 默认的名字是root\n",
    "    - 配置呢是在logging.basicConfig()里面\n",
    "        - help看看里面的参数，可以改等级，名字吧啦吧啦\n",
    "    - logging的显示格式可以用logging.FORMAT来改，参数去看文档\n",
    "    \n",
    "    \n",
    "- 下面给一个例子"
   ]
  },
  {
   "cell_type": "code",
   "execution_count": 1,
   "metadata": {},
   "outputs": [],
   "source": [
    "import logging"
   ]
  },
  {
   "cell_type": "code",
   "execution_count": 3,
   "metadata": {},
   "outputs": [
    {
     "name": "stderr",
     "output_type": "stream",
     "text": [
      "WARNING:root:this is a warning log\n",
      "ERROR:root:this is a error log\n",
      "CRITICAL:root:this is a critical log\n"
     ]
    }
   ],
   "source": [
    "#logging的一种写法\n",
    "logging.debug(\"this is a debug log\")\n",
    "logging.info(\"this is a info log\")\n",
    "logging.warning(\"this is a warning log\")\n",
    "logging.error(\"this is a error log\")\n",
    "logging.critical(\"this is a critical log\")\n",
    "# 因为我没有对logger配置，所以只显示了warning以上的日志信息"
   ]
  },
  {
   "cell_type": "code",
   "execution_count": 4,
   "metadata": {},
   "outputs": [
    {
     "name": "stderr",
     "output_type": "stream",
     "text": [
      "WARNING:root:this is a warning log\n",
      "ERROR:root:this is a error log\n",
      "CRITICAL:root:this is a critical log\n"
     ]
    }
   ],
   "source": [
    "#另一种写法\n",
    "logging.log(logging.DEBUG,\"this is a debug log\")\n",
    "logging.log(logging.INFO,\"this is a info log\")\n",
    "logging.log(logging.WARNING,\"this is a warning log\")\n",
    "logging.log(logging.ERROR,\"this is a error log\")\n",
    "logging.log(logging.CRITICAL,\"this is a critical log\")"
   ]
  },
  {
   "cell_type": "code",
   "execution_count": 5,
   "metadata": {},
   "outputs": [
    {
     "name": "stdout",
     "output_type": "stream",
     "text": [
      "Help on function basicConfig in module logging:\n",
      "\n",
      "basicConfig(**kwargs)\n",
      "    Do basic configuration for the logging system.\n",
      "    \n",
      "    This function does nothing if the root logger already has handlers\n",
      "    configured. It is a convenience method intended for use by simple scripts\n",
      "    to do one-shot configuration of the logging package.\n",
      "    \n",
      "    The default behaviour is to create a StreamHandler which writes to\n",
      "    sys.stderr, set a formatter using the BASIC_FORMAT format string, and\n",
      "    add the handler to the root logger.\n",
      "    \n",
      "    A number of optional keyword arguments may be specified, which can alter\n",
      "    the default behaviour.\n",
      "    \n",
      "    filename  Specifies that a FileHandler be created, using the specified\n",
      "              filename, rather than a StreamHandler.\n",
      "    filemode  Specifies the mode to open the file, if filename is specified\n",
      "              (if filemode is unspecified, it defaults to 'a').\n",
      "    format    Use the specified format string for the handler.\n",
      "    datefmt   Use the specified date/time format.\n",
      "    style     If a format string is specified, use this to specify the\n",
      "              type of format string (possible values '%', '{', '$', for\n",
      "              %-formatting, :meth:`str.format` and :class:`string.Template`\n",
      "              - defaults to '%').\n",
      "    level     Set the root logger level to the specified level.\n",
      "    stream    Use the specified stream to initialize the StreamHandler. Note\n",
      "              that this argument is incompatible with 'filename' - if both\n",
      "              are present, 'stream' is ignored.\n",
      "    handlers  If specified, this should be an iterable of already created\n",
      "              handlers, which will be added to the root handler. Any handler\n",
      "              in the list which does not have a formatter assigned will be\n",
      "              assigned the formatter created in this function.\n",
      "    \n",
      "    Note that you could specify a stream created using open(filename, mode)\n",
      "    rather than passing the filename and mode in. However, it should be\n",
      "    remembered that StreamHandler does not close its stream (since it may be\n",
      "    using sys.stdout or sys.stderr), whereas FileHandler closes its stream\n",
      "    when the handler is closed.\n",
      "    \n",
      "    .. versionchanged:: 3.2\n",
      "       Added the ``style`` parameter.\n",
      "    \n",
      "    .. versionchanged:: 3.3\n",
      "       Added the ``handlers`` parameter. A ``ValueError`` is now thrown for\n",
      "       incompatible arguments (e.g. ``handlers`` specified together with\n",
      "       ``filename``/``filemode``, or ``filename``/``filemode`` specified\n",
      "       together with ``stream``, or ``handlers`` specified together with\n",
      "       ``stream``.\n",
      "\n"
     ]
    }
   ],
   "source": [
    "help(logging.basicConfig)"
   ]
  },
  {
   "cell_type": "markdown",
   "metadata": {},
   "source": [
    "### log的四大组件\n",
    "- 日志器（logger）：\n",
    "- 处理器（handler）：\n",
    "- 过滤器（filter）：\n",
    "- 格式器（formatter）：\n",
    "- 工作的流程就大概是这样，我新建一个日志器；然后设置一个处理器，在处理器里面用过滤器过滤指定的消息，用格式器进行排版；之后呢再把这个处理器绑定在那个日志器上。"
   ]
  },
  {
   "cell_type": "markdown",
   "metadata": {},
   "source": [
    "#### Logger\n",
    "- 常见的操作\n",
    "    - Logger.setLevel() \t设置日志器将会处理的日志消息的最低严重级别\n",
    "    - Logger.addHandler() 和 Logger.removeHandler() \t为该logger对象添加 和 移除一个handler对象\n",
    "    - Logger.addFilter() 和 Logger.removeFilter() \t为该logger对象添加 和 移除一个filter对象\n",
    "    - Logger.debug: 产生一条debug级别的日志，同理，info，error，等\n",
    "    - Logger.exception(): 创建类似于Logger.error的日志消息\n",
    "    - Logger.log():获取一个明确的日志level参数类创建一个日志记录\n",
    "- 获取一个logger的对象\n",
    "    - logging.getLogger()"
   ]
  },
  {
   "cell_type": "markdown",
   "metadata": {},
   "source": [
    "#### handler \n",
    "- 把日志信息发到指定的位置\n",
    "- 好像要import logging.handlers\n",
    "- 方法\n",
    "    - setLevel\n",
    "    - setFormat\n",
    "    - addFilter，removeFilter"
   ]
  },
  {
   "cell_type": "markdown",
   "metadata": {},
   "source": [
    "#### format\n",
    "- 可以直接实例化\n",
    "- 用来把log信息进行格式调整，就相当于把信息进行排版，让它好看"
   ]
  },
  {
   "cell_type": "markdown",
   "metadata": {},
   "source": [
    "#### filter\n",
    "- 顾名思义，就是过滤嘛，为了提高效率，把指定日志发给指定人，指定的地方"
   ]
  },
  {
   "cell_type": "markdown",
   "metadata": {},
   "source": [
    "### 关于log的案例\n",
    "- 收一个写的比较好的文档[https://www.cnblogs.com/yyds/p/6901864.html]\n",
    "- 还有一个案例[https://github.com/tulingxueyuan/CookBook_and_code/blob/master/10-LOG/02.py]\n",
    "- 这个案例还是蛮好懂的，只不过有很多参数不知道怎么用"
   ]
  },
  {
   "cell_type": "code",
   "execution_count": null,
   "metadata": {},
   "outputs": [],
   "source": []
  },
  {
   "cell_type": "code",
   "execution_count": null,
   "metadata": {},
   "outputs": [],
   "source": []
  }
 ],
 "metadata": {
  "kernelspec": {
   "display_name": "Python 3",
   "language": "python",
   "name": "python3"
  },
  "language_info": {
   "codemirror_mode": {
    "name": "ipython",
    "version": 3
   },
   "file_extension": ".py",
   "mimetype": "text/x-python",
   "name": "python",
   "nbconvert_exporter": "python",
   "pygments_lexer": "ipython3",
   "version": "3.6.4"
  }
 },
 "nbformat": 4,
 "nbformat_minor": 2
}
