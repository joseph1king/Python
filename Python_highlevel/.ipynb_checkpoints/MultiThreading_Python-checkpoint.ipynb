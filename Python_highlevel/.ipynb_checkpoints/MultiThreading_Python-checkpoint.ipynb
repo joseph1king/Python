{
 "cells": [
  {
   "cell_type": "markdown",
   "metadata": {},
   "source": [
    "### 多线程\n",
    "- thread:3.x想用的话，用这种格式_thread\n",
    "- threading：这是先在用的包"
   ]
  },
  {
   "cell_type": "markdown",
   "metadata": {},
   "source": [
    "#### _thread\n",
    "- 老的包，的使用\n",
    "    - 先import一下，_thread\n",
    "    - 创建一个新的线程就是，_thread.start_new_thread(要执行的东西名称,（括号里面方执行的东西所需要的参数）)\n",
    "    - 注意啊：那个括号表示的是一个元组，如果只有一个参数则（参数1，），后面要跟个逗号"
   ]
  },
  {
   "cell_type": "code",
   "execution_count": 1,
   "metadata": {},
   "outputs": [
    {
     "name": "stdout",
     "output_type": "stream",
     "text": [
      "Starting at: Sat Nov 10 17:05:31 2018\n",
      "Start loop 1 at : Sat Nov 10 17:05:31 2018\n",
      "End loop 1 at: Sat Nov 10 17:05:35 2018\n",
      "Start loop 2 at : Sat Nov 10 17:05:35 2018\n",
      "End loop 2 at: Sat Nov 10 17:05:37 2018\n",
      "All done at: Sat Nov 10 17:05:37 2018\n"
     ]
    }
   ],
   "source": [
    "#先在这里给个案例，先不用多线程跑跑看\n",
    "import time\n",
    "\n",
    "def loop1():\n",
    "    # ctime 得到当前时间\n",
    "    print('Start loop 1 at :', time.ctime())\n",
    "    # 睡眠多长时间，单位是秒\n",
    "    time.sleep(4)\n",
    "    print('End loop 1 at:', time.ctime())\n",
    "\n",
    "\n",
    "def loop2():\n",
    "    # ctime 得到当前时间\n",
    "    print('Start loop 2 at :', time.ctime())\n",
    "    # 睡眠多长时间，单位是秒\n",
    "    time.sleep(2)\n",
    "    print('End loop 2 at:', time.ctime())\n",
    "\n",
    "\n",
    "def main():\n",
    "    print(\"Starting at:\", time.ctime())\n",
    "    loop1()\n",
    "    loop2()\n",
    "    print(\"All done at:\", time.ctime())\n",
    "\n",
    "\n",
    "if __name__ == '__main__':\n",
    "    main()\n",
    "    \n",
    "    \n",
    "    \n",
    "    \n",
    "# 从结果可以看到，他是先执行主函数，然后是loop1，然后是loop2，没毛病"
   ]
  },
  {
   "cell_type": "code",
   "execution_count": null,
   "metadata": {},
   "outputs": [],
   "source": [
    "# 现在用多线程来跑跑看\n",
    "import time\n",
    "import _thread as thread\n",
    "\n",
    "\n",
    "def loop1():\n",
    "    # ctime 得到当前时间\n",
    "    print('Start loop 1 at :', time.ctime())\n",
    "    # 睡眠多长时间，单位是秒\n",
    "    time.sleep(4)\n",
    "    print('End loop 1 at:', time.ctime())\n",
    "\n",
    "\n",
    "def loop2():\n",
    "    # ctime 得到当前时间\n",
    "    print('Start loop 2 at :', time.ctime())\n",
    "    # 睡眠多长时间，单位是秒\n",
    "    time.sleep(2)\n",
    "    print('End loop 2 at:', time.ctime())\n",
    "\n",
    "\n",
    "def main():\n",
    "    print(\"Starting at:\", time.ctime())\n",
    "    # 启动多线程的意思是用多线程去执行某个函数\n",
    "    # 启动多线程函数为start_new_thead\n",
    "    # 参数两个，一个是需要运行的函数名，第二是函数的参数作为元祖使用，为空则使用空元祖\n",
    "    # 注意：如果函数只有一个参数，需要参数后由一个逗号\n",
    "    thread.start_new_thread(loop1, ())\n",
    "\n",
    "    thread.start_new_thread(loop2, ())\n",
    "\n",
    "    print(\"All done at:\", time.ctime())\n",
    "\n",
    "\n",
    "if __name__ == '__main__':\n",
    "    main()\n",
    "    \n",
    "    #加这个代码其实是让主线程一直在运转，不停止，如果不加这些代码，很可能只能看到loop1，loop2启动，看不到终止\n",
    "   # while True:\n",
    "  #      time.sleep(1)\n"
   ]
  },
  {
   "cell_type": "markdown",
   "metadata": {},
   "source": [
    "#### threading\n",
    "- 惯例，先导入import threading\n",
    "- 用法\n",
    "    - 用threading.Thread生成Thread的实例\n",
    "        - t = threading.Thread(target=执行对象的名字,args=(参数,))\n",
    "        - t.start(),启动线程\n",
    "        - t.join()，等待多线程的完成"
   ]
  },
  {
   "cell_type": "markdown",
   "metadata": {},
   "source": [
    "#### 守护线程\n",
    "- 就是主线成一终止，守护线程就终止。（老大死了，小弟一起死）\n",
    "- 用法\n",
    "    - t.setDaemon(true)\n",
    "    - 上面这句话在启动之前要加入，就是加在t.start()前面\n",
    "    "
   ]
  },
  {
   "cell_type": "markdown",
   "metadata": {},
   "source": [
    "#### 共享问题\n",
    "- 多线程执行的时候，在访问变量的时候，可能会遇到共享冲突问题，就是同一时间，对同一变量，多个人执行写的操作，这样就会有麻烦了。\n",
    "- 解决方法：用锁进行互斥资源的访问。（lock）\n",
    "- 用法：\n",
    "    - 在threading里面有锁的方法\n",
    "    - threading.Lock()，lock.acquire()上锁，lock.release()解锁"
   ]
  },
  {
   "cell_type": "code",
   "execution_count": 1,
   "metadata": {},
   "outputs": [
    {
     "name": "stdout",
     "output_type": "stream",
     "text": [
      "Starting ....0\n",
      "Done .... 0\n"
     ]
    }
   ],
   "source": [
    "# 整个程序就是先加一遍，再减一遍。但是用两个线程同时进行。\n",
    "import threading\n",
    "\n",
    "sum = 0\n",
    "loopSum = 1000000\n",
    "\n",
    "\n",
    "lock = threading.Lock()\n",
    "\n",
    "\n",
    "def myAdd():\n",
    "    global  sum, loopSum\n",
    "\n",
    "    for i in range(1, loopSum):\n",
    "        # 上锁，申请锁\n",
    "        lock.acquire()\n",
    "        sum += 1\n",
    "        # 释放锁\n",
    "        lock.release()\n",
    "\n",
    "\n",
    "def myMinu():\n",
    "    global  sum, loopSum\n",
    "    for i in range(1, loopSum):\n",
    "        lock.acquire()\n",
    "        sum -= 1\n",
    "        lock.release()\n",
    "\n",
    "if __name__ == '__main__':\n",
    "    print(\"Starting ....{0}\".format(sum))\n",
    "\n",
    "    # 开始多线程的实例，看执行结果是否一样\n",
    "    t1 = threading.Thread(target=myAdd, args=())\n",
    "    t2 = threading.Thread(target=myMinu, args=())\n",
    "\n",
    "    t1.start()\n",
    "    t2.start()\n",
    "\n",
    "    t1.join()\n",
    "    t2.join()\n",
    "\n",
    "    print(\"Done .... {0}\".format(sum))"
   ]
  },
  {
   "cell_type": "markdown",
   "metadata": {},
   "source": [
    "#### 死锁问题\n",
    "- 用多线程的时候一点要注意死锁\n",
    "- 锁是申请了，用过后要释放的。但是如果现在有两把锁，分别两个人在用，两个人心里都在想，我要拿到另一把锁的时候我才释放当前的锁，两个人就会一直纠缠下去，谁也得不到。（因为不谦让，总想什么东西自己先有，先得到）\n",
    "- 解决死锁一种有效的方法就是，在申请的时候设置一个时间限制，意思就是说过多长时间如果没有响应，那我就先把我的锁给释放，因为知道可能有别人在申请我的锁，产生了死锁问题。（你看，只要有一个人谦让一点，事情就好办了，世界就更美好了，所以要学会谦让，不要总想着冲破脑袋去争）"
   ]
  },
  {
   "cell_type": "code",
   "execution_count": null,
   "metadata": {},
   "outputs": [],
   "source": [
    "# 死锁的例子\n",
    "\n",
    "import threading\n",
    "import time\n",
    "\n",
    "lock_1 = threading.Lock()\n",
    "lock_2 = threading.Lock()\n",
    "\n",
    "\n",
    "\n",
    "\n",
    "def func_1():\n",
    "   print(\"func_1 starting.........\")\n",
    "   lock_1.acquire()\n",
    "   print(\"func_1 申请了 lock_1....\")\n",
    "   time.sleep(2)\n",
    "   print(\"func_1 等待 lock_2.......\")\n",
    "   lock_2.acquire()\n",
    "   print(\"func_1 申请了 lock_2.......\")\n",
    "\n",
    "   lock_2.release()\n",
    "   print(\"func_1 释放了 lock_2\")\n",
    "\n",
    "   lock_1.release()\n",
    "   print(\"func_1 释放了 lock_1\")\n",
    "\n",
    "   print(\"func_1 done..........\")\n",
    "\n",
    "\n",
    "def func_2():\n",
    "   print(\"func_2 starting.........\")\n",
    "   lock_2.acquire()\n",
    "   print(\"func_2 申请了 lock_2....\")\n",
    "   time.sleep(4)\n",
    "   print(\"func_2 等待 lock_1.......\")\n",
    "   lock_1.acquire()\n",
    "   print(\"func_2 申请了 lock_1.......\")\n",
    "\n",
    "   lock_1.release()\n",
    "   print(\"func_2 释放了 lock_1\")\n",
    "\n",
    "   lock_2.release()\n",
    "   print(\"func_2 释放了 lock_2\")\n",
    "\n",
    "   print(\"func_2 done..........\")\n",
    "\n",
    "if __name__ == \"__main__\":\n",
    "\n",
    "   print(\"主程序启动..............\")\n",
    "   t1 = threading.Thread(target=func_1, args=())\n",
    "   t2 = threading.Thread(target=func_2, args=())\n",
    "\n",
    "   t1.start()\n",
    "   t2.start()\n",
    "\n",
    "   t1.join()\n",
    "   t2.join()\n",
    "\n",
    "   print(\"主程序启动..............\")\n",
    "\n"
   ]
  },
  {
   "cell_type": "markdown",
   "metadata": {},
   "source": [
    "#### Timer\n",
    "- 就是定时启动一个函数\n",
    "- 要import time"
   ]
  },
  {
   "cell_type": "code",
   "execution_count": null,
   "metadata": {},
   "outputs": [],
   "source": [
    "# timer 的例子\n",
    "import threading\n",
    "import time\n",
    "\n",
    "def func():\n",
    "    print(\"I am running.........\")\n",
    "    time.sleep(4)\n",
    "    print(\"I am done......\")\n",
    "\n",
    "\n",
    "\n",
    "if __name__ == \"__main__\":\n",
    "    # 意思就是每6秒运行一下func函数\n",
    "    t = threading.Timer(6, func)\n",
    "    t.start()\n",
    "\n",
    "    i = 0\n",
    "    \n",
    "    #就相当于一个时间参照，每3秒打印一排*号\n",
    "    while True:\n",
    "        print(\"{0}***************\".format(i))\n",
    "        time.sleep(3)\n",
    "        i += 1"
   ]
  },
  {
   "cell_type": "markdown",
   "metadata": {},
   "source": [
    "### 多进程\n",
    "- 进程之间的通信（InterProcessCommunication，IPC）\n",
    "- 进程之间是没有东西共享的\n",
    "- 进程的使用是需要先导入的\n",
    "    - import multiprocessing\n",
    "- 派生进程，继承multiprocessing.process\n",
    "- 进程都有个身份证pid,ppid(老爸的身份证)\n",
    "    - 进程id在OS包里面看，所以用之前要先import下\n",
    "        - import os\n",
    "        - 之后使用os.getpid()就行了"
   ]
  },
  {
   "cell_type": "code",
   "execution_count": 15,
   "metadata": {},
   "outputs": [
    {
     "name": "stdout",
     "output_type": "stream",
     "text": [
      "main line\n",
      "module_name: __main__\n",
      "parent process: 14892\n",
      "process id: 14956\n"
     ]
    }
   ],
   "source": [
    "# 这段代码在pycharm中可以，不知道这边为什么就不行\n",
    "from multiprocessing import Process\n",
    "import os\n",
    "\n",
    "def info(title):\n",
    "    print(title)\n",
    "    print(\"module_name:\",__name__)\n",
    "    # 获得父进程的id\n",
    "    print(\"parent process:\",os.getpid())\n",
    "    #获得自己进程的id\n",
    "    print(\"process id:\",os.getppid())\n",
    "    \n",
    "\n",
    "def func(name):\n",
    "    info('function f')\n",
    "    print(\"hello\", name)\n",
    "    \n",
    "    \n",
    "if __name__=='__main__':\n",
    "    info('main line')\n",
    "    p = Process(target=func, args=('joseph',))\n",
    "    p.start()\n",
    "    p.join()"
   ]
  },
  {
   "cell_type": "code",
   "execution_count": null,
   "metadata": {},
   "outputs": [],
   "source": []
  },
  {
   "cell_type": "code",
   "execution_count": null,
   "metadata": {},
   "outputs": [],
   "source": []
  }
 ],
 "metadata": {
  "kernelspec": {
   "display_name": "Python 3",
   "language": "python",
   "name": "python3"
  },
  "language_info": {
   "codemirror_mode": {
    "name": "ipython",
    "version": 3
   },
   "file_extension": ".py",
   "mimetype": "text/x-python",
   "name": "python",
   "nbconvert_exporter": "python",
   "pygments_lexer": "ipython3",
   "version": "3.6.4"
  }
 },
 "nbformat": 4,
 "nbformat_minor": 2
}
