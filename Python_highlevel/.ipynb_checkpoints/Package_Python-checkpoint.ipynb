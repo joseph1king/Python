{
 "cells": [
  {
   "cell_type": "markdown",
   "metadata": {},
   "source": [
    "### 模块\n",
    "    模块就是一个文件，里面有代码。可参考[https://www.cnblogs.com/kex1n/p/5977051.html]\n",
    "- 模块的写法\n",
    "    - 模块里面可以包含类、函数、表达式。\n",
    "- 怎么用\n",
    "    - 先import module_name（模块的名字）。注意：导入就相当于把你的模块里面的代码复制到你当前的代码之前。\n",
    "        - import module_name\n",
    "    - 调用模块中的函数之类的东西 \n",
    "        - module_name.fun_name（函数） ,module_name.val_name(变量)，module_name.class_name（类）\n",
    "    - 当模块的名字太长的时候可以在导入的时给它改名字，其他使用跟上面一样。\n",
    "        - import module_name as nickname\n",
    "    - 模块是可以以数字开头的，但是在Python中不可以使用以数字开头的。这时候可以采用importlib来导入以数字开头的模块\n",
    "        - Val_name = importblib.import_module(\"Package_name\")\n",
    "    - 当模块的内容东西太多了，有时候只想用其中的某一个函数、类啊之类的，这时候可以用选择性调用。这种调用法就省去前缀了\n",
    "        - from module_name import class_name(fun_name)\n",
    "    - 还有个一种就是导入模块里面所有的内容，这种听起来好像和第一种一样，但其实还是有区别的，因为你不要写模块的前缀了，惊不惊喜。\n",
    "        - from module_name import *\n",
    "\n",
    "- 模块在使用的时候注意的地方\n",
    "    在很多语言中，程序都有一个运行的入口，C，Java...这些都有个main函数，main就是程序的入口，在Python中呢，其实也可以有。在模块的设计时，其中可以包括一些在自己运行的时候才调用的方法啊、类啊之类的东西，当别人导入我这个模块的时候隐藏。（说简单点，加了下面那句话的内容以后就是，我自己用可以，别人用不了）\n",
    "    - 怎么实现呢\n",
    "        - 可以在仅自己调用时运行的内容前加上一个判断 if \\__ name \\__== \"\\__main__\"\n",
    "            "
   ]
  },
  {
   "cell_type": "code",
   "execution_count": null,
   "metadata": {},
   "outputs": [],
   "source": [
    "\n",
    "\n"
   ]
  },
  {
   "cell_type": "code",
   "execution_count": null,
   "metadata": {},
   "outputs": [],
   "source": []
  }
 ],
 "metadata": {
  "kernelspec": {
   "display_name": "Python 3",
   "language": "python",
   "name": "python3"
  },
  "language_info": {
   "codemirror_mode": {
    "name": "ipython",
    "version": 3
   },
   "file_extension": ".py",
   "mimetype": "text/x-python",
   "name": "python",
   "nbconvert_exporter": "python",
   "pygments_lexer": "ipython3",
   "version": "3.6.4"
  }
 },
 "nbformat": 4,
 "nbformat_minor": 2
}
