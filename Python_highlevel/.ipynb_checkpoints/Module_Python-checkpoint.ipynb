{
 "cells": [
  {
   "cell_type": "markdown",
   "metadata": {},
   "source": [
    "### 常用的模块"
   ]
  },
  {
   "cell_type": "markdown",
   "metadata": {},
   "source": [
    "#### calendar\n",
    "- 使用之前先要import导入一下\n",
    "    - import calendar\n"
   ]
  },
  {
   "cell_type": "code",
   "execution_count": 3,
   "metadata": {},
   "outputs": [
    {
     "name": "stdout",
     "output_type": "stream",
     "text": [
      "                                  2018\n",
      "\n",
      "      January                   February                   March\n",
      "Mo Tu We Th Fr Sa Su      Mo Tu We Th Fr Sa Su      Mo Tu We Th Fr Sa Su\n",
      " 1  2  3  4  5  6  7                1  2  3  4                1  2  3  4\n",
      " 8  9 10 11 12 13 14       5  6  7  8  9 10 11       5  6  7  8  9 10 11\n",
      "15 16 17 18 19 20 21      12 13 14 15 16 17 18      12 13 14 15 16 17 18\n",
      "22 23 24 25 26 27 28      19 20 21 22 23 24 25      19 20 21 22 23 24 25\n",
      "29 30 31                  26 27 28                  26 27 28 29 30 31\n",
      "\n",
      "       April                      May                       June\n",
      "Mo Tu We Th Fr Sa Su      Mo Tu We Th Fr Sa Su      Mo Tu We Th Fr Sa Su\n",
      "                   1          1  2  3  4  5  6                   1  2  3\n",
      " 2  3  4  5  6  7  8       7  8  9 10 11 12 13       4  5  6  7  8  9 10\n",
      " 9 10 11 12 13 14 15      14 15 16 17 18 19 20      11 12 13 14 15 16 17\n",
      "16 17 18 19 20 21 22      21 22 23 24 25 26 27      18 19 20 21 22 23 24\n",
      "23 24 25 26 27 28 29      28 29 30 31               25 26 27 28 29 30\n",
      "30\n",
      "\n",
      "        July                     August                  September\n",
      "Mo Tu We Th Fr Sa Su      Mo Tu We Th Fr Sa Su      Mo Tu We Th Fr Sa Su\n",
      "                   1             1  2  3  4  5                      1  2\n",
      " 2  3  4  5  6  7  8       6  7  8  9 10 11 12       3  4  5  6  7  8  9\n",
      " 9 10 11 12 13 14 15      13 14 15 16 17 18 19      10 11 12 13 14 15 16\n",
      "16 17 18 19 20 21 22      20 21 22 23 24 25 26      17 18 19 20 21 22 23\n",
      "23 24 25 26 27 28 29      27 28 29 30 31            24 25 26 27 28 29 30\n",
      "30 31\n",
      "\n",
      "      October                   November                  December\n",
      "Mo Tu We Th Fr Sa Su      Mo Tu We Th Fr Sa Su      Mo Tu We Th Fr Sa Su\n",
      " 1  2  3  4  5  6  7                1  2  3  4                      1  2\n",
      " 8  9 10 11 12 13 14       5  6  7  8  9 10 11       3  4  5  6  7  8  9\n",
      "15 16 17 18 19 20 21      12 13 14 15 16 17 18      10 11 12 13 14 15 16\n",
      "22 23 24 25 26 27 28      19 20 21 22 23 24 25      17 18 19 20 21 22 23\n",
      "29 30 31                  26 27 28 29 30            24 25 26 27 28 29 30\n",
      "                                                    31\n",
      "\n"
     ]
    }
   ],
   "source": [
    "import calendar\n",
    "\n",
    "# 打印某年的日历\n",
    "cal = calendar.calendar(2018)\n",
    "print(cal)\n",
    "\n",
    "# 另一种打印日历的方法\n",
    "calendar.prcal(2018)"
   ]
  },
  {
   "cell_type": "code",
   "execution_count": 2,
   "metadata": {},
   "outputs": [
    {
     "name": "stdout",
     "output_type": "stream",
     "text": [
      "Help on method formatyear in module calendar:\n",
      "\n",
      "formatyear(theyear, w=2, l=1, c=6, m=3) method of calendar.TextCalendar instance\n",
      "    Returns a year's calendar as a multi-line string.\n",
      "\n"
     ]
    }
   ],
   "source": [
    "# 可以看看上面这个方法的用法，及参数\n",
    "help(calendar.calendar)"
   ]
  },
  {
   "cell_type": "code",
   "execution_count": 5,
   "metadata": {},
   "outputs": [
    {
     "name": "stdout",
     "output_type": "stream",
     "text": [
      "True\n"
     ]
    }
   ],
   "source": [
    "# 在日历这项中有一个很重要的功能就是查看闰年\n",
    "leap = calendar.isleap(2000)\n",
    "print(leap)"
   ]
  },
  {
   "cell_type": "code",
   "execution_count": 7,
   "metadata": {},
   "outputs": [
    {
     "name": "stdout",
     "output_type": "stream",
     "text": [
      "5\n"
     ]
    }
   ],
   "source": [
    "# 处理判断是不是闰年还可以判断在某个年份区间内闰年的个数\n",
    "# 注意：区间是左闭右开的\n",
    "num = calendar.leapdays(1990,2010)\n",
    "print(num)"
   ]
  },
  {
   "cell_type": "code",
   "execution_count": 8,
   "metadata": {},
   "outputs": [
    {
     "name": "stdout",
     "output_type": "stream",
     "text": [
      "   November 2018\n",
      "Mo Tu We Th Fr Sa Su\n",
      "          1  2  3  4\n",
      " 5  6  7  8  9 10 11\n",
      "12 13 14 15 16 17 18\n",
      "19 20 21 22 23 24 25\n",
      "26 27 28 29 30\n",
      "\n"
     ]
    }
   ],
   "source": [
    "# 打出某个月的日历\n",
    "mot = calendar.month(2018,11)\n",
    "print(mot)\n",
    "\n",
    "# 另一种打印一个月的日历\n",
    "# 如果你跟我一样聪明的话，你肯定就会想了，那么有没有打印一周的呢？\n",
    "calendar.prmonth(2018,11)"
   ]
  },
  {
   "cell_type": "code",
   "execution_count": 9,
   "metadata": {},
   "outputs": [
    {
     "name": "stdout",
     "output_type": "stream",
     "text": [
      "(3, 30)\n"
     ]
    }
   ],
   "source": [
    "# 这个功能比较好玩，查看某个月是从周几开始，一共有多少天\n",
    "mon = calendar.monthrange(2018,11)\n",
    "print(mon)\n",
    "# 看输出结果和日历比对，当时有点懵，明明是周四，它写个3。其实呢，Python这个里面是从0开始的，所以3就代表周四。（还有有点想不明白这样的目的）"
   ]
  },
  {
   "cell_type": "code",
   "execution_count": 17,
   "metadata": {},
   "outputs": [
    {
     "data": {
      "text/plain": [
       "0"
      ]
     },
     "execution_count": 17,
     "metadata": {},
     "output_type": "execute_result"
    }
   ],
   "source": [
    "# 看看某天是周几\n",
    "# 2018.11.9是周一\n",
    "calendar.weekday(2018,11,19)"
   ]
  },
  {
   "cell_type": "markdown",
   "metadata": {},
   "source": [
    "### time\n",
    "- 使用的时候要import\n",
    "    - import time\n",
    "- 时间戳\n",
    "    - 表示1970年1月1日0h0m0s到现在经过的秒数。\n",
    "- 时间元组\n",
    "    - 元组内容为，年，月，日，时，分，秒，第几周，第几天，夏令时"
   ]
  },
  {
   "cell_type": "code",
   "execution_count": 19,
   "metadata": {},
   "outputs": [],
   "source": [
    "import time"
   ]
  },
  {
   "cell_type": "code",
   "execution_count": 20,
   "metadata": {},
   "outputs": [
    {
     "name": "stdout",
     "output_type": "stream",
     "text": [
      "-28800\n"
     ]
    }
   ],
   "source": [
    "# timezone是打印当前时区与UTC时区的秒数差\n",
    "print(time.timezone)"
   ]
  },
  {
   "cell_type": "code",
   "execution_count": 21,
   "metadata": {},
   "outputs": [
    {
     "data": {
      "text/plain": [
       "1541473105.8676105"
      ]
     },
     "execution_count": 21,
     "metadata": {},
     "output_type": "execute_result"
    }
   ],
   "source": [
    "# 获取时间戳\n",
    "time.time()"
   ]
  },
  {
   "cell_type": "code",
   "execution_count": 24,
   "metadata": {},
   "outputs": [
    {
     "data": {
      "text/plain": [
       "time.struct_time(tm_year=2018, tm_mon=11, tm_mday=6, tm_hour=11, tm_min=0, tm_sec=33, tm_wday=1, tm_yday=310, tm_isdst=0)"
      ]
     },
     "execution_count": 24,
     "metadata": {},
     "output_type": "execute_result"
    }
   ],
   "source": [
    "# 获取本地时间，这个方法返回的是一个时间元组\n",
    "time.localtime()\n",
    "# 这个显示的时间元组内容为，年，月，日，时，分，秒，第几周，第几天，夏令时"
   ]
  },
  {
   "cell_type": "code",
   "execution_count": 26,
   "metadata": {},
   "outputs": [
    {
     "name": "stdout",
     "output_type": "stream",
     "text": [
      "Tue Nov  6 11:06:03 2018\n",
      "Tue Nov  6 11:06:03 2018\n"
     ]
    }
   ],
   "source": [
    "# 用元组的方式显示的时间看起来很不自在，可以用asctime来给它调整下\n",
    "\n",
    "t = time.localtime()\n",
    "\n",
    "# 注意：参数是一个时间元组\n",
    "tt = time.asctime(t)\n",
    "print(tt)\n",
    "\n",
    "\n",
    "# 还有个更简便的方法\n",
    "t = time.ctime()\n",
    "print(t)"
   ]
  },
  {
   "cell_type": "code",
   "execution_count": 27,
   "metadata": {},
   "outputs": [
    {
     "name": "stdout",
     "output_type": "stream",
     "text": [
      "1541473665.0\n"
     ]
    }
   ],
   "source": [
    "# 用时间元组获取一个时间戳\n",
    "lc = time.localtime()\n",
    "ts = time.mktime(lc)\n",
    "print(ts)"
   ]
  },
  {
   "cell_type": "code",
   "execution_count": 28,
   "metadata": {},
   "outputs": [
    {
     "name": "stdout",
     "output_type": "stream",
     "text": [
      "0\n",
      "1\n",
      "2\n",
      "3\n",
      "4\n",
      "5\n",
      "6\n",
      "7\n",
      "8\n",
      "9\n"
     ]
    }
   ],
   "source": [
    "# sleep 跟其他的语言中的sleep差不多\n",
    "for i in range(10):\n",
    "    print(i)\n",
    "    time.sleep(2)\n"
   ]
  },
  {
   "cell_type": "code",
   "execution_count": 35,
   "metadata": {},
   "outputs": [
    {
     "name": "stdout",
     "output_type": "stream",
     "text": [
      "2018年11月06日 11:50\n"
     ]
    }
   ],
   "source": [
    "# 可以通过方法自定义时间格式\n",
    "# 比如我想要的格式是：2018年9月\n",
    "t = time.localtime()\n",
    "#tt = time.strftime(\"%Y年%m月%d日 %H:%M\",t)，这种出现中文字符会报错，我也不知道咋地，索性就用下面的那种方法了\n",
    "tt = time.strftime(\"%Y{y}%m{m}%d{d} %H:%M\",t).format(y=\"年\",m=\"月\",d=\"日\")\n",
    "print(tt)"
   ]
  },
  {
   "cell_type": "markdown",
   "metadata": {},
   "source": [
    "### datetime\n",
    "- 使用的时候还是老规矩import\n",
    "    - import datetime"
   ]
  },
  {
   "cell_type": "code",
   "execution_count": 39,
   "metadata": {},
   "outputs": [],
   "source": [
    "import datetime"
   ]
  },
  {
   "cell_type": "code",
   "execution_count": 41,
   "metadata": {},
   "outputs": [
    {
     "name": "stdout",
     "output_type": "stream",
     "text": [
      "2018-11-06\n"
     ]
    }
   ],
   "source": [
    "# datetime.date 提供日期，年月日\n",
    "print(datetime.date(2018,11,6))"
   ]
  },
  {
   "cell_type": "code",
   "execution_count": 51,
   "metadata": {},
   "outputs": [
    {
     "name": "stdout",
     "output_type": "stream",
     "text": [
      "2018-11-06 15:19:23.308346\n",
      "2018-11-06 15:19:23.308345\n",
      "2018-11-06 15:19:23.308346\n"
     ]
    }
   ],
   "source": [
    "#datetime.datetime\n",
    "from datetime import datetime\n",
    "# 常用的类方法\n",
    "#today\n",
    "#now\n",
    "#utcnow ： UTC 时间\n",
    "#fromtimestamp: 从时间戳返回本地时间,里面给的参数是时间戳\n",
    "\n",
    "dt = datetime(2018,11,6)\n",
    "print(dt.today())\n",
    "# 显示现在的时间\n",
    "t = datetime.now()\n",
    "print(t)\n",
    "print(dt.fromtimestamp(time.time()))"
   ]
  },
  {
   "cell_type": "code",
   "execution_count": 56,
   "metadata": {},
   "outputs": [
    {
     "name": "stdout",
     "output_type": "stream",
     "text": [
      "2018-11-06 15:41:37\n",
      "2018-11-06 16:41:37\n"
     ]
    }
   ],
   "source": [
    "from datetime import datetime,timedelta\n",
    "# timedelta是用来把提供一个时间间隔的（感觉没什么卵用）\n",
    "t1 = datetime.now()\n",
    "print(t1.strftime(\"%Y-%m-%d %H:%M:%S\"))\n",
    "#这里将时间间隔设置为1小时\n",
    "d = timedelta(hours=1)\n",
    "\n",
    "#这个时候打印出来的就是1小时后的时间\n",
    "print((t1+d).strftime(\"%Y-%m-%d %H:%M:%S\"))"
   ]
  },
  {
   "cell_type": "code",
   "execution_count": 62,
   "metadata": {},
   "outputs": [
    {
     "name": "stdout",
     "output_type": "stream",
     "text": [
      "hello world!\n",
      "3.0000228881835938\n"
     ]
    }
   ],
   "source": [
    "# 这是一种用来测试某个函数运行所要花的时间\n",
    "#让他打印个hello world 然后再休眠3秒\n",
    "def Pr():\n",
    "    print(\"hello world!\")\n",
    "    time.sleep(3)\n",
    "    \n",
    "#前后各加个时间戳\n",
    "t1 = time.time()\n",
    "Pr()\n",
    "t2 = time.time()\n",
    "print(t2-t1)"
   ]
  },
  {
   "cell_type": "code",
   "execution_count": 64,
   "metadata": {},
   "outputs": [
    {
     "name": "stdout",
     "output_type": "stream",
     "text": [
      "Help on module timeit:\n",
      "\n",
      "NAME\n",
      "    timeit - Tool for measuring execution time of small code snippets.\n",
      "\n",
      "DESCRIPTION\n",
      "    This module avoids a number of common traps for measuring execution\n",
      "    times.  See also Tim Peters' introduction to the Algorithms chapter in\n",
      "    the Python Cookbook, published by O'Reilly.\n",
      "    \n",
      "    Library usage: see the Timer class.\n",
      "    \n",
      "    Command line usage:\n",
      "        python timeit.py [-n N] [-r N] [-s S] [-t] [-c] [-p] [-h] [--] [statement]\n",
      "    \n",
      "    Options:\n",
      "      -n/--number N: how many times to execute 'statement' (default: see below)\n",
      "      -r/--repeat N: how many times to repeat the timer (default 3)\n",
      "      -s/--setup S: statement to be executed once initially (default 'pass').\n",
      "                    Execution time of this setup statement is NOT timed.\n",
      "      -p/--process: use time.process_time() (default is time.perf_counter())\n",
      "      -t/--time: use time.time() (deprecated)\n",
      "      -c/--clock: use time.clock() (deprecated)\n",
      "      -v/--verbose: print raw timing results; repeat for more digits precision\n",
      "      -u/--unit: set the output time unit (usec, msec, or sec)\n",
      "      -h/--help: print this usage message and exit\n",
      "      --: separate options from statement, use when statement starts with -\n",
      "      statement: statement to be timed (default 'pass')\n",
      "    \n",
      "    A multi-line statement may be given by specifying each line as a\n",
      "    separate argument; indented lines are possible by enclosing an\n",
      "    argument in quotes and using leading spaces.  Multiple -s options are\n",
      "    treated similarly.\n",
      "    \n",
      "    If -n is not given, a suitable number of loops is calculated by trying\n",
      "    successive powers of 10 until the total time is at least 0.2 seconds.\n",
      "    \n",
      "    Note: there is a certain baseline overhead associated with executing a\n",
      "    pass statement.  It differs between versions.  The code here doesn't try\n",
      "    to hide it, but you should be aware of it.  The baseline overhead can be\n",
      "    measured by invoking the program without arguments.\n",
      "    \n",
      "    Classes:\n",
      "    \n",
      "        Timer\n",
      "    \n",
      "    Functions:\n",
      "    \n",
      "        timeit(string, string) -> float\n",
      "        repeat(string, string) -> list\n",
      "        default_timer() -> float\n",
      "\n",
      "CLASSES\n",
      "    builtins.object\n",
      "        Timer\n",
      "    \n",
      "    class Timer(builtins.object)\n",
      "     |  Class for timing execution speed of small code snippets.\n",
      "     |  \n",
      "     |  The constructor takes a statement to be timed, an additional\n",
      "     |  statement used for setup, and a timer function.  Both statements\n",
      "     |  default to 'pass'; the timer function is platform-dependent (see\n",
      "     |  module doc string).  If 'globals' is specified, the code will be\n",
      "     |  executed within that namespace (as opposed to inside timeit's\n",
      "     |  namespace).\n",
      "     |  \n",
      "     |  To measure the execution time of the first statement, use the\n",
      "     |  timeit() method.  The repeat() method is a convenience to call\n",
      "     |  timeit() multiple times and return a list of results.\n",
      "     |  \n",
      "     |  The statements may contain newlines, as long as they don't contain\n",
      "     |  multi-line string literals.\n",
      "     |  \n",
      "     |  Methods defined here:\n",
      "     |  \n",
      "     |  __init__(self, stmt='pass', setup='pass', timer=<built-in function perf_counter>, globals=None)\n",
      "     |      Constructor.  See class doc string.\n",
      "     |  \n",
      "     |  autorange(self, callback=None)\n",
      "     |      Return the number of loops and time taken so that total time >= 0.2.\n",
      "     |      \n",
      "     |      Calls the timeit method with *number* set to successive powers of\n",
      "     |      ten (10, 100, 1000, ...) up to a maximum of one billion, until\n",
      "     |      the time taken is at least 0.2 second, or the maximum is reached.\n",
      "     |      Returns ``(number, time_taken)``.\n",
      "     |      \n",
      "     |      If *callback* is given and is not None, it will be called after\n",
      "     |      each trial with two arguments: ``callback(number, time_taken)``.\n",
      "     |  \n",
      "     |  print_exc(self, file=None)\n",
      "     |      Helper to print a traceback from the timed code.\n",
      "     |      \n",
      "     |      Typical use:\n",
      "     |      \n",
      "     |          t = Timer(...)       # outside the try/except\n",
      "     |          try:\n",
      "     |              t.timeit(...)    # or t.repeat(...)\n",
      "     |          except:\n",
      "     |              t.print_exc()\n",
      "     |      \n",
      "     |      The advantage over the standard traceback is that source lines\n",
      "     |      in the compiled template will be displayed.\n",
      "     |      \n",
      "     |      The optional file argument directs where the traceback is\n",
      "     |      sent; it defaults to sys.stderr.\n",
      "     |  \n",
      "     |  repeat(self, repeat=3, number=1000000)\n",
      "     |      Call timeit() a few times.\n",
      "     |      \n",
      "     |      This is a convenience function that calls the timeit()\n",
      "     |      repeatedly, returning a list of results.  The first argument\n",
      "     |      specifies how many times to call timeit(), defaulting to 3;\n",
      "     |      the second argument specifies the timer argument, defaulting\n",
      "     |      to one million.\n",
      "     |      \n",
      "     |      Note: it's tempting to calculate mean and standard deviation\n",
      "     |      from the result vector and report these.  However, this is not\n",
      "     |      very useful.  In a typical case, the lowest value gives a\n",
      "     |      lower bound for how fast your machine can run the given code\n",
      "     |      snippet; higher values in the result vector are typically not\n",
      "     |      caused by variability in Python's speed, but by other\n",
      "     |      processes interfering with your timing accuracy.  So the min()\n",
      "     |      of the result is probably the only number you should be\n",
      "     |      interested in.  After that, you should look at the entire\n",
      "     |      vector and apply common sense rather than statistics.\n",
      "     |  \n",
      "     |  timeit(self, number=1000000)\n",
      "     |      Time 'number' executions of the main statement.\n",
      "     |      \n",
      "     |      To be precise, this executes the setup statement once, and\n",
      "     |      then returns the time it takes to execute the main statement\n",
      "     |      a number of times, as a float measured in seconds.  The\n",
      "     |      argument is the number of times through the loop, defaulting\n",
      "     |      to one million.  The main statement, the setup statement and\n",
      "     |      the timer function to be used are passed to the constructor.\n",
      "     |  \n",
      "     |  ----------------------------------------------------------------------\n",
      "     |  Data descriptors defined here:\n",
      "     |  \n",
      "     |  __dict__\n",
      "     |      dictionary for instance variables (if defined)\n",
      "     |  \n",
      "     |  __weakref__\n",
      "     |      list of weak references to the object (if defined)\n",
      "\n",
      "FUNCTIONS\n",
      "    default_timer = perf_counter(...)\n",
      "        perf_counter() -> float\n",
      "        \n",
      "        Performance counter for benchmarking.\n",
      "    \n",
      "    repeat(stmt='pass', setup='pass', timer=<built-in function perf_counter>, repeat=3, number=1000000, globals=None)\n",
      "        Convenience function to create Timer object and call repeat method.\n",
      "    \n",
      "    timeit(stmt='pass', setup='pass', timer=<built-in function perf_counter>, number=1000000, globals=None)\n",
      "        Convenience function to create Timer object and call timeit method.\n",
      "\n",
      "DATA\n",
      "    __all__ = ['Timer', 'timeit', 'repeat', 'default_timer']\n",
      "\n",
      "FILE\n",
      "    g:\\anaconda\\lib\\timeit.py\n",
      "\n",
      "\n"
     ]
    }
   ],
   "source": [
    "# 在Python中有个timeit的东西可以用来获取运行的时间\n",
    "import timeit\n",
    "help(timeit)\n",
    "# 官方文档给出的第一句话就是定义tool for measuring"
   ]
  },
  {
   "cell_type": "code",
   "execution_count": 71,
   "metadata": {},
   "outputs": [
    {
     "name": "stdout",
     "output_type": "stream",
     "text": [
      "5.6450226479041755e-05\n"
     ]
    }
   ],
   "source": [
    "# 一个小例子\n",
    "\n",
    "c = '''\n",
    "def Pr(num):\n",
    "    for i in  range(num):\n",
    "        print(\"{0}:hello world!\".format(i))\n",
    "'''\n",
    "# stmt是要测量的函数，setup是当函数需要有参数的时候提供参数，number是把这个函数执行多少次\n",
    "# 因为电脑执行代码速度很快，为了让执行时间更具体（我也知道怎么用词），就是更具有可读性把，让他多次执行，这样比较起来也方便些\n",
    "t = timeit.timeit(stmt=c,setup=c+\"num=2\",number=1000)\n",
    "\n",
    "print(t)\n"
   ]
  },
  {
   "cell_type": "markdown",
   "metadata": {},
   "source": [
    "### random 模块\n",
    "- random是在random模块下的所以呢，老规矩，import一下\n",
    "- 这是一个伪随机，根据时钟频率相关"
   ]
  },
  {
   "cell_type": "code",
   "execution_count": 1,
   "metadata": {},
   "outputs": [],
   "source": [
    "import random"
   ]
  },
  {
   "cell_type": "code",
   "execution_count": 132,
   "metadata": {},
   "outputs": [
    {
     "name": "stdout",
     "output_type": "stream",
     "text": [
      "94\n"
     ]
    }
   ],
   "source": [
    "#random()\n",
    "#这是随机0-1之间的一个小数，但是往往我们要的不是小数，是整数，而且不止0-1，所以要经过特殊处理\n",
    "#比如说我要生成0-100的数，\n",
    "num = int(int(random.random()*100)*100/99)\n",
    "print(num)"
   ]
  },
  {
   "cell_type": "code",
   "execution_count": 56,
   "metadata": {},
   "outputs": [
    {
     "name": "stdout",
     "output_type": "stream",
     "text": [
      "4joseph\n"
     ]
    }
   ],
   "source": [
    "# random.choice()\n",
    "#随机返回某个序列中的一个值\n",
    "l = [str(i)+\"joseph\" for i in range(5)]\n",
    "c = random.choice(l)\n",
    "print(c)"
   ]
  },
  {
   "cell_type": "code",
   "execution_count": 71,
   "metadata": {},
   "outputs": [
    {
     "name": "stdout",
     "output_type": "stream",
     "text": [
      "[0, 1, 2, 3, 4, 5, 6, 7, 8, 9]\n",
      "********************\n",
      "[9, 1, 2, 5, 0, 8, 6, 4, 7, 3]\n"
     ]
    }
   ],
   "source": [
    "#shuffle() 随机打乱（在英文中随机播放就是这个单词，因为一首歌的列表，随机打乱给你放）\n",
    "#注意：这个是在原序列内给你打乱的\n",
    "l1 = [i for i in range(10)]\n",
    "print(l1)\n",
    "print(\"*\" * 20)\n",
    "random.shuffle(l1)\n",
    "print(l1)"
   ]
  },
  {
   "cell_type": "code",
   "execution_count": 92,
   "metadata": {},
   "outputs": [
    {
     "data": {
      "text/plain": [
       "17"
      ]
     },
     "execution_count": 92,
     "metadata": {},
     "output_type": "execute_result"
    }
   ],
   "source": [
    "#随机生成某个区间内的整数\n",
    "#random.randint()\n",
    "#是两边都是闭区间\n",
    "random.randint(0,100)"
   ]
  },
  {
   "cell_type": "markdown",
   "metadata": {},
   "source": [
    "### collection 模块\n",
    "- namedtuple\n",
    "- deque"
   ]
  },
  {
   "cell_type": "code",
   "execution_count": 3,
   "metadata": {},
   "outputs": [],
   "source": [
    "import collections"
   ]
  },
  {
   "cell_type": "code",
   "execution_count": 4,
   "metadata": {},
   "outputs": [
    {
     "name": "stdout",
     "output_type": "stream",
     "text": [
      "10\n",
      "11\n"
     ]
    }
   ],
   "source": [
    "#namedtuple\n",
    "#作用就是给元组加个名字\n",
    "\n",
    "joseph = collections.namedtuple(\"joseph\",['x','y'])\n",
    "j = joseph(10,11)\n",
    "print(j.x)\n",
    "print(j[1])"
   ]
  },
  {
   "cell_type": "code",
   "execution_count": 11,
   "metadata": {},
   "outputs": [
    {
     "name": "stdout",
     "output_type": "stream",
     "text": [
      "deque([1, 3, 4, 5])\n",
      "deque([0, 1, 3, 4, 5])\n",
      "deque([0, 1, 2, 3, 4, 5])\n"
     ]
    }
   ],
   "source": [
    "# deque\n",
    "#作用就是方便增、删等操作\n",
    "from collections import deque\n",
    "q = deque([1,3,4])\n",
    "\n",
    "#同样可以对其进行追加之类的操作\n",
    "q.append(5)\n",
    "print(q)\n",
    "\n",
    "# 我还可以加在左边\n",
    "q.appendleft(0)\n",
    "print(q)\n",
    "\n",
    "#我还可以插入,给出索引和要插入的内容\n",
    "q.insert(2,2)\n",
    "print(q)"
   ]
  },
  {
   "cell_type": "code",
   "execution_count": 19,
   "metadata": {},
   "outputs": [
    {
     "name": "stdout",
     "output_type": "stream",
     "text": [
      "1\n",
      "不存在\n"
     ]
    }
   ],
   "source": [
    "#defaultdict \n",
    "#作用就是个默认值，当字典中没有的时候，就自动转到默认值里去了\n",
    "\n",
    "from collections import defaultdict\n",
    "func = lambda: \"不存在\"\n",
    "d = defaultdict(func)\n",
    "d[\"one\"] = 1\n",
    "d[\"two\"] = 2\n",
    "\n",
    "print(d['one'])\n",
    "print(d[\"three\"])"
   ]
  },
  {
   "cell_type": "code",
   "execution_count": null,
   "metadata": {},
   "outputs": [],
   "source": []
  }
 ],
 "metadata": {
  "kernelspec": {
   "display_name": "Python 3",
   "language": "python",
   "name": "python3"
  },
  "language_info": {
   "codemirror_mode": {
    "name": "ipython",
    "version": 3
   },
   "file_extension": ".py",
   "mimetype": "text/x-python",
   "name": "python",
   "nbconvert_exporter": "python",
   "pygments_lexer": "ipython3",
   "version": "3.6.4"
  }
 },
 "nbformat": 4,
 "nbformat_minor": 2
}
