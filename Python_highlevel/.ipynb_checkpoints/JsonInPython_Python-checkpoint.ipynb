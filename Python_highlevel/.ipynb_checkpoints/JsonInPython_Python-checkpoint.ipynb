{
 "cells": [
  {
   "cell_type": "markdown",
   "metadata": {},
   "source": [
    "### JSON(JavaScriptObjectNotation)\n",
    "- json是轻量级的数据交换格式\n",
    "- json是一个键值对形式的数据集,使用大括号包裹\n",
    "    - key：关键字\n",
    "    - value：字符串、数字、列表、json\n",
    "    "
   ]
  },
  {
   "cell_type": "code",
   "execution_count": null,
   "metadata": {},
   "outputs": [],
   "source": [
    "#json格式的一个小例子\n",
    "Student = {\n",
    "    \"name\":\"joseph\"\n",
    "    \"age\":18\n",
    "}"
   ]
  },
  {
   "cell_type": "markdown",
   "metadata": {},
   "source": [
    "#### json in Python\n",
    "- Python中为json准备了包\n",
    "- 老规矩，包使用前都要导入\n",
    "    - import json\n",
    "- json和Python对象的转换\n",
    "    - json.dumps():把Python格式表示成json\n",
    "    - json.loads():把json格式转换成python格式\n",
    "- Python读取json文件\n",
    "    - 注意：上面的两个方法和下面两个方法是由区别的，下面少个s\n",
    "    - json.dump():把内容写入文件\n",
    "    - json.load():把json读取到Python中"
   ]
  },
  {
   "cell_type": "code",
   "execution_count": 19,
   "metadata": {},
   "outputs": [
    {
     "name": "stdout",
     "output_type": "stream",
     "text": [
      "<class 'dict'>\n",
      "<class 'str'>\n",
      "JSON对象：{\"name\": \"joseph\", \"age\": 18}\n",
      "<class 'dict'>\n",
      "{'name': 'joseph', 'age': 18}\n"
     ]
    }
   ],
   "source": [
    "import json\n",
    "student = {\n",
    "    \"name\":\"joseph\",\n",
    "    \"age\":18\n",
    "}\n",
    "\n",
    "# 刚开始这个student是一个字典类型\n",
    "print(type(student))\n",
    "\n",
    "# 采用dumps对其转换，就成了json格式了，是个字符串\n",
    "stu_json = json.dumps(student)\n",
    "print(type(stu_json))\n",
    "print(\"JSON对象：{0}\".format(stu_json))      \n",
    "\n",
    "# 采用loads把json准换为字典类型\n",
    "stu_dict = json.loads(stu_json)\n",
    "print(type(stu_dict))\n",
    "print(stu_dict)\n"
   ]
  },
  {
   "cell_type": "code",
   "execution_count": 16,
   "metadata": {},
   "outputs": [
    {
     "name": "stdout",
     "output_type": "stream",
     "text": [
      "{'name': 'hahah', 'age': 12}\n"
     ]
    }
   ],
   "source": [
    "import json\n",
    "\n",
    "\n",
    "data = {\"name\":\"hahah\", \"age\":12}\n",
    "\n",
    "# 以json格式写入到文件中\n",
    "# 可以发现路径下多了个t.json的文件\n",
    "with open(\"t.json\", 'w') as f:\n",
    "    json.dump(data, f)\n",
    "\n",
    "#将json文件读出来\n",
    "with open(\"t.json\", 'r') as f:\n",
    "    d = json.load( f)\n",
    "    print(d)"
   ]
  }
 ],
 "metadata": {
  "kernelspec": {
   "display_name": "Python 3",
   "language": "python",
   "name": "python3"
  },
  "language_info": {
   "codemirror_mode": {
    "name": "ipython",
    "version": 3
   },
   "file_extension": ".py",
   "mimetype": "text/x-python",
   "name": "python",
   "nbconvert_exporter": "python",
   "pygments_lexer": "ipython3",
   "version": "3.6.4"
  }
 },
 "nbformat": 4,
 "nbformat_minor": 2
}
