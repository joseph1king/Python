{
 "cells": [
  {
   "cell_type": "markdown",
   "metadata": {},
   "source": [
    "### 函数式编程（FunctionalProgramming）\n",
    "- 基于lambda演算的一中欧冠编程方式\n",
    "    - 程序中只有函数\n",
    "    - 函数作为参数，函数可以作为返回值"
   ]
  },
  {
   "cell_type": "markdown",
   "metadata": {},
   "source": [
    "#### lambda表达式 (就相当于Python中的匿名函数)\n",
    "- 就是一个表达式，不是代码块\n",
    "- 格式就是以lambda开头，如果有参数的话就写上参数，然后用分号：跟后面的表达式隔开\n",
    "- 参数可以有多个\n",
    "- 使用就看下面的例子\n"
   ]
  },
  {
   "cell_type": "code",
   "execution_count": 1,
   "metadata": {},
   "outputs": [
    {
     "data": {
      "text/plain": [
       "1000"
      ]
     },
     "execution_count": 1,
     "metadata": {},
     "output_type": "execute_result"
    }
   ],
   "source": [
    "#lambda表达式的例子\n",
    "#把一个数扩大100倍\n",
    "lam = lambda x: x * 100\n",
    "lam(10)"
   ]
  },
  {
   "cell_type": "markdown",
   "metadata": {},
   "source": [
    "#### 高阶函数\n",
    "- 可以把函数当成参数"
   ]
  },
  {
   "cell_type": "markdown",
   "metadata": {},
   "source": [
    "#### reduce\n",
    "- 需要导入functools包\n",
    "- 把一个可迭代的对象归并成一个结果\n",
    "- 比如，我有一个数列[1,2,3,4,5]，我执行reduce操作，要两个参数，先把1,2作为参数，执行某一个操作，然后把返回值再作为一个参数，3作为第二个参数执行某一操作，后面就以此类推了。\n",
    "- 注意：必须有两个参数，和返回值。"
   ]
  },
  {
   "cell_type": "code",
   "execution_count": 1,
   "metadata": {},
   "outputs": [
    {
     "data": {
      "text/plain": [
       "15"
      ]
     },
     "execution_count": 1,
     "metadata": {},
     "output_type": "execute_result"
    }
   ],
   "source": [
    "from functools import reduce\n",
    "\n",
    "# reduce的例子\n",
    "\n",
    "def funA(x,y):\n",
    "    return x + y\n",
    "\n",
    "#把后面那个列表执行funA操作，然后归并成一个结果\n",
    "reduce(funA,[1,2,3,4,5])"
   ]
  },
  {
   "cell_type": "code",
   "execution_count": 2,
   "metadata": {},
   "outputs": [
    {
     "name": "stdout",
     "output_type": "stream",
     "text": [
      "Help on built-in function reduce in module _functools:\n",
      "\n",
      "reduce(...)\n",
      "    reduce(function, sequence[, initial]) -> value\n",
      "    \n",
      "    Apply a function of two arguments cumulatively to the items of a sequence,\n",
      "    from left to right, so as to reduce the sequence to a single value.\n",
      "    For example, reduce(lambda x, y: x+y, [1, 2, 3, 4, 5]) calculates\n",
      "    ((((1+2)+3)+4)+5).  If initial is present, it is placed before the items\n",
      "    of the sequence in the calculation, and serves as a default when the\n",
      "    sequence is empty.\n",
      "\n"
     ]
    }
   ],
   "source": [
    "help(reduce)"
   ]
  },
  {
   "cell_type": "markdown",
   "metadata": {},
   "source": [
    "#### map\n",
    "- 就是把原有的集合或者列表，按照一定的规则操作化生成一个新的列表或者集合\n",
    "- map在3.x版本返回值是迭代器"
   ]
  },
  {
   "cell_type": "code",
   "execution_count": 14,
   "metadata": {},
   "outputs": [
    {
     "name": "stdout",
     "output_type": "stream",
     "text": [
      "[0, 1, 2, 3, 4, 5, 6, 7, 8, 9]\n",
      "<class 'map'>\n",
      "[0, 10, 20, 30, 40, 50, 60, 70, 80, 90]\n",
      "[]\n"
     ]
    }
   ],
   "source": [
    "l1 = [i for i in range(10)]\n",
    "print(l1)\n",
    "\n",
    "def mul(n):\n",
    "    return n*10\n",
    "\n",
    "l2 = map(mul,l1)\n",
    "print(type(l2))\n",
    "\n",
    "\n",
    "l3 = []\n",
    "for i in l2:\n",
    "    l3.append(i)\n",
    "print(l3)\n",
    "\n",
    "\n",
    "#为什么用列表生成式它返回的值时空的，我个人感觉是因为用map得到的返回值是迭代器类型\n",
    "#而迭代器里面记录的是值所在的位置\n",
    "#使用列表生成式的时候可能只能读取有值的列表类型吧\n",
    "#不知道对不对\n",
    "l4 = [i for i in l2]\n",
    "print(l4)\n",
    "\n",
    "    \n",
    "\n",
    "\n"
   ]
  },
  {
   "cell_type": "markdown",
   "metadata": {},
   "source": [
    "#### filter 函数\n",
    "- 过滤函数，根据一定条件，对数据进行过滤，然后生成一个新的列表并返回\n",
    "- 格式filter(f,data) f为过滤函数，data为数据\n",
    "- 过滤函数要有输入、输出"
   ]
  },
  {
   "cell_type": "code",
   "execution_count": 15,
   "metadata": {},
   "outputs": [
    {
     "name": "stdout",
     "output_type": "stream",
     "text": [
      "[2, 56, 666, 42, 44]\n"
     ]
    }
   ],
   "source": [
    "# filter例子\n",
    "def testDef(a):\n",
    "    return a % 2 ==0\n",
    "\n",
    "l = [1,2,3,56,666,42,44,123,643]\n",
    "f = filter(testDef,l)\n",
    "print([i for i in f])"
   ]
  },
  {
   "cell_type": "markdown",
   "metadata": {},
   "source": [
    "#### 高阶函数的排序\n",
    "- sorted。\n",
    "- 它的参数可以参照下面的文档。首先，进行排序的必须是一个可迭代的东西\n",
    "- 其次你可以设置一个排序的要求或者参照。比如我想按绝对值排我就加上一个key = abs\n",
    "- 排序默认的是升序的，如果要让他降序排就加上一句reverse = True"
   ]
  },
  {
   "cell_type": "code",
   "execution_count": 16,
   "metadata": {},
   "outputs": [
    {
     "name": "stdout",
     "output_type": "stream",
     "text": [
      "Help on built-in function sorted in module builtins:\n",
      "\n",
      "sorted(iterable, /, *, key=None, reverse=False)\n",
      "    Return a new list containing all items from the iterable in ascending order.\n",
      "    \n",
      "    A custom key function can be supplied to customize the sort order, and the\n",
      "    reverse flag can be set to request the result in descending order.\n",
      "\n"
     ]
    }
   ],
   "source": [
    "help(sorted)"
   ]
  },
  {
   "cell_type": "code",
   "execution_count": 20,
   "metadata": {},
   "outputs": [
    {
     "name": "stdout",
     "output_type": "stream",
     "text": [
      "[1, 2, 4, 4, 20, 66, 349]\n",
      "********************\n",
      "[349, 66, 20, 4, 4, 2, 1]\n",
      "********************\n",
      "[0, 5, -18, -99, 342, -938, 9924]\n",
      "********************\n",
      "['I', 'angle', 'joseph', 'love', 'very']\n",
      "********************\n"
     ]
    }
   ],
   "source": [
    "# sorted的例子\n",
    "\n",
    "l = [1,66,2,4,349,20,4]\n",
    "s1 = sorted(l)\n",
    "print(s1)\n",
    "print(\"*\" * 20)\n",
    "\n",
    "# 让他降序排列\n",
    "s2 =sorted(l,reverse=True)\n",
    "print(s2)\n",
    "print(\"*\" * 20)\n",
    "\n",
    "# 含有负数的\n",
    "l1 = [0,5,-99,342,-18,-938,9924]\n",
    "s3 = sorted(l1,key=abs)\n",
    "print(s3)\n",
    "print(\"*\" * 20)\n",
    "\n",
    "\n",
    "#字符串进行排序\n",
    "l2 = [\"I\",\"love\",\"joseph\",\"angle\",\"very\"]\n",
    "s4 = sorted(l2)\n",
    "print(s4)\n",
    "print(\"*\" * 20)"
   ]
  },
  {
   "cell_type": "markdown",
   "metadata": {},
   "source": [
    "#### 闭包（closure）\n",
    "- 闭包就还是一个函数里面再套一个函数，然后把内部函数当成返回值"
   ]
  },
  {
   "cell_type": "code",
   "execution_count": 22,
   "metadata": {},
   "outputs": [
    {
     "data": {
      "text/plain": [
       "4"
      ]
     },
     "execution_count": 22,
     "metadata": {},
     "output_type": "execute_result"
    }
   ],
   "source": [
    "#闭包的例子\n",
    "def fun1(a):\n",
    "    def fun2():\n",
    "        res = 0\n",
    "        res = a+2\n",
    "        return res\n",
    "    return fun2\n",
    "\n",
    "f = fun1(2)\n",
    "f()"
   ]
  },
  {
   "cell_type": "code",
   "execution_count": 27,
   "metadata": {},
   "outputs": [
    {
     "name": "stdout",
     "output_type": "stream",
     "text": [
      "9\n",
      "9\n",
      "9\n"
     ]
    }
   ],
   "source": [
    "#闭包问题有很多坑，下面有个坑\n",
    "#这个函数的目的其实是想在i没变一次的时候返回一个结果，所以预期的结果是1,4,9\n",
    "#其实我也不太懂这个东西有什么用，就感觉那个人闲着X疼\n",
    "\n",
    "def count():\n",
    "    # 定义列表，列表里存放的是定义的函数\n",
    "    fs = []\n",
    "    for i in range(1,4):\n",
    "        # 定义了一个函数f\n",
    "        # f是一个闭包结构\n",
    "        def f():\n",
    "            return i*i\n",
    "        fs.append(f)\n",
    "    return fs\n",
    "\n",
    "f1,f2,f3 = count()\n",
    "print(f1())\n",
    "print(f2())\n",
    "print(f3())"
   ]
  },
  {
   "cell_type": "markdown",
   "metadata": {},
   "source": [
    "#### 问题所在\n",
    "- 但是问题就出在，它return的是i x i，并不是一个具体的值，奇怪也就在于，闭包对于这种并不是立即执行，它就相当于把i x i放在了那个fs列表里等到最后在把i值带进去算，那个时候i已经变成3了\n",
    "- 为了更清楚的解释：就相当于每执行一次循环，把i x i放进去，最后那个fs里面的内容就是这样的[i x i,i x i,i x i]。然后最后一次循环结束时候，i的值就是3，所以所有的都是9。\n",
    "\n",
    "\n",
    "- 最后得出的结论：返回闭包的时候，不能引用任何循环变量\n",
    "- 你可能会问了，如果那个人真的就这么X疼，想得到这个结果要怎么改呢？看下面\n"
   ]
  },
  {
   "cell_type": "code",
   "execution_count": 29,
   "metadata": {},
   "outputs": [
    {
     "name": "stdout",
     "output_type": "stream",
     "text": [
      "1\n",
      "4\n",
      "9\n"
     ]
    }
   ],
   "source": [
    "#修改后的\n",
    "def count2():\n",
    "    def f(j):\n",
    "        def g():\n",
    "            return j*j\n",
    "        return g\n",
    "    fs = []\n",
    "    \n",
    "    #这里因为又定义了一个函数，说要f(i)直接就是值了，所以每循环一次就是放进去一个值了\n",
    "    for i in range(1,4):\n",
    "        fs.append(f(i))\n",
    "    return fs\n",
    "\n",
    "f1,f2,f3 = count2()\n",
    "print(f1())\n",
    "print(f2())\n",
    "print(f3())"
   ]
  },
  {
   "cell_type": "markdown",
   "metadata": {},
   "source": [
    "#### 装饰器 \n",
    "- 在不改动函数代码的基础上无限制扩展函数功能的一种机制，本质上讲，装饰器是一个返回函数的高阶函数。\n",
    "- 用法：用@ + 函数名"
   ]
  },
  {
   "cell_type": "code",
   "execution_count": 30,
   "metadata": {},
   "outputs": [],
   "source": [
    "import time\n",
    "\n",
    "def printTime(f):\n",
    "    # 这个语法是固定的好像\n",
    "    def wrapper(*args, **kwargs):\n",
    "        print(\"Time: \", time.ctime())\n",
    "        return f(*args, **kwargs)\n",
    "    return wrapper"
   ]
  },
  {
   "cell_type": "code",
   "execution_count": 33,
   "metadata": {},
   "outputs": [
    {
     "name": "stdout",
     "output_type": "stream",
     "text": [
      "Time:  Thu Nov  8 17:41:48 2018\n",
      "hello world!\n"
     ]
    }
   ],
   "source": [
    "# 这是使用了Python的语法糖符号@\n",
    "@printTime\n",
    "def hello():\n",
    "    print(\"hello world!\")\n",
    "\n",
    "    \n",
    "hello()"
   ]
  },
  {
   "cell_type": "code",
   "execution_count": 34,
   "metadata": {},
   "outputs": [
    {
     "name": "stdout",
     "output_type": "stream",
     "text": [
      "Time:  Thu Nov  8 18:10:44 2018\n",
      "这是hello1\n"
     ]
    }
   ],
   "source": [
    "#不用@符号调用装饰器\n",
    "def hello1():\n",
    "    print(\"这是hello1\")\n",
    "    \n",
    "hello1 = printTime(hello1)\n",
    "hello1()"
   ]
  },
  {
   "cell_type": "markdown",
   "metadata": {},
   "source": []
  },
  {
   "cell_type": "code",
   "execution_count": null,
   "metadata": {},
   "outputs": [],
   "source": []
  },
  {
   "cell_type": "code",
   "execution_count": null,
   "metadata": {},
   "outputs": [],
   "source": []
  },
  {
   "cell_type": "code",
   "execution_count": null,
   "metadata": {},
   "outputs": [],
   "source": []
  },
  {
   "cell_type": "code",
   "execution_count": null,
   "metadata": {},
   "outputs": [],
   "source": []
  }
 ],
 "metadata": {
  "kernelspec": {
   "display_name": "Python 3",
   "language": "python",
   "name": "python3"
  },
  "language_info": {
   "codemirror_mode": {
    "name": "ipython",
    "version": 3
   },
   "file_extension": ".py",
   "mimetype": "text/x-python",
   "name": "python",
   "nbconvert_exporter": "python",
   "pygments_lexer": "ipython3",
   "version": "3.6.4"
  }
 },
 "nbformat": 4,
 "nbformat_minor": 2
}
