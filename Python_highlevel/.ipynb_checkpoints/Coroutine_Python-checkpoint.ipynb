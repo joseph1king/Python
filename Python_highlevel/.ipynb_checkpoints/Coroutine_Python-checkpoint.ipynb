{
 "cells": [
  {
   "cell_type": "markdown",
   "metadata": {},
   "source": [
    "### 参考资料\n",
    "- https://blog.csdn.net/andybegin/article/details/77884645\n",
    "- http://python.jobbole.com/86481/\n",
    "- http://python.jobbole.com/87310/\n",
    "- https://segmentfault.com/a/1190000009781688\n",
    "\n",
    "    \n",
    "### 迭代器\n",
    "- 可迭代的：可直接用于for循环的变量\n",
    "    - 有关于它的包iterable 在collections里面\n",
    "- 迭代器：满足可迭代的定义，而且还可以被next调用。list就是可迭代的但不是迭代器。\n",
    "    - 有关于它的包iterator 也在collections里面\n",
    "- 可以将可迭代的东西转化为，迭代器。\n",
    "    - 用iter()方法"
   ]
  },
  {
   "cell_type": "code",
   "execution_count": null,
   "metadata": {},
   "outputs": [],
   "source": [
    "#iter的用法。"
   ]
  },
  {
   "cell_type": "markdown",
   "metadata": {},
   "source": [
    "### 生成器\n",
    "- generator：一边循环一边计算下一个元素的算法或者机制\n",
    "- 满足的条件：\n",
    "    - 能生产出所需要的元素\n",
    "    - 达到最后一个数后，就是越界的时候，能出现StopIteration异常\n",
    "    - 能被next调用\n",
    "- 生成器的写法\n",
    "    - 函数中有yield\n",
    "- 调用\n",
    "    - 使用next调用"
   ]
  },
  {
   "cell_type": "code",
   "execution_count": 7,
   "metadata": {},
   "outputs": [
    {
     "name": "stdout",
     "output_type": "stream",
     "text": [
      "0\n",
      "1\n",
      "2\n",
      "3\n",
      "4\n",
      "<class 'list'>\n",
      "<class 'generator'>\n"
     ]
    }
   ],
   "source": [
    "#常见的一个生成器就是range\n",
    "for i in range(5):\n",
    "    print(i)\n",
    "    \n",
    "# 这是采用列表生成器生成的一个列表\n",
    "l = [i for i in range(2)]\n",
    "print(type(l))\n",
    "# 这就是一个生成器\n",
    "g = (i for i in range(2))\n",
    "print(type(g))"
   ]
  },
  {
   "cell_type": "code",
   "execution_count": 3,
   "metadata": {},
   "outputs": [
    {
     "name": "stdout",
     "output_type": "stream",
     "text": [
      "this is one\n",
      "this is two\n",
      "this is three\n",
      "********************\n",
      "this is one\n",
      "this is two\n",
      "this is three\n"
     ]
    }
   ],
   "source": [
    "# 这里给出正常函数和生成器的对比\n",
    "# 正常函数\n",
    "\n",
    "def pt():\n",
    "    print(\"this is one\")\n",
    "    print(\"this is two\")\n",
    "    print(\"this is three\")\n",
    "    \n",
    "    return None\n",
    "\n",
    "pt()\n",
    "    \n",
    "# 生成器写法\n",
    "print(\"*\" *20)\n",
    "\n",
    "\n",
    "def pt_1():\n",
    "    print(\"this is one\")\n",
    "    yield 1\n",
    "    print(\"this is two\")\n",
    "    yield 2\n",
    "    print(\"this is three\")\n",
    "    yield 3\n",
    "\n",
    "    \n",
    "#生成一个生成器\n",
    "g = pt_1()\n",
    "one = next(g)\n",
    "two = next(g)\n",
    "three = next(g)"
   ]
  },
  {
   "cell_type": "code",
   "execution_count": null,
   "metadata": {},
   "outputs": [],
   "source": [
    "# 斐波那契数列用生成器实现"
   ]
  },
  {
   "cell_type": "markdown",
   "metadata": {},
   "source": [
    "### 协程\n",
    "- 协程呢，其实可以看成是一个生成器，因为里面有yield；但是真正的意思是这样的，就是相当于有个函数，我可以执行一会、暂停一会。执行和暂停都是我人为来控制。使用的就是yield的原理，执行到这相当于给个标记，下次从上次执行的后面执行。\n",
    "- 协程里有两个重要的关键字\n",
    "    - yield\n",
    "    - send\n",
    "    \n"
   ]
  },
  {
   "cell_type": "code",
   "execution_count": 9,
   "metadata": {},
   "outputs": [
    {
     "name": "stdout",
     "output_type": "stream",
     "text": [
      "1111\n",
      "-> start\n",
      "2222\n",
      "-> recived joseph\n"
     ]
    },
    {
     "ename": "StopIteration",
     "evalue": "",
     "output_type": "error",
     "traceback": [
      "\u001b[1;31m---------------------------------------------------------------------------\u001b[0m",
      "\u001b[1;31mStopIteration\u001b[0m                             Traceback (most recent call last)",
      "\u001b[1;32m<ipython-input-9-c444f299b878>\u001b[0m in \u001b[0;36m<module>\u001b[1;34m()\u001b[0m\n\u001b[0;32m     11\u001b[0m \u001b[1;33m\u001b[0m\u001b[0m\n\u001b[0;32m     12\u001b[0m \u001b[0mprint\u001b[0m\u001b[1;33m(\u001b[0m\u001b[1;36m2222\u001b[0m\u001b[1;33m)\u001b[0m\u001b[1;33m\u001b[0m\u001b[0m\n\u001b[1;32m---> 13\u001b[1;33m \u001b[0msc\u001b[0m\u001b[1;33m.\u001b[0m\u001b[0msend\u001b[0m\u001b[1;33m(\u001b[0m\u001b[1;34m'joseph'\u001b[0m\u001b[1;33m)\u001b[0m\u001b[1;33m\u001b[0m\u001b[0m\n\u001b[0m",
      "\u001b[1;31mStopIteration\u001b[0m: "
     ]
    }
   ],
   "source": [
    "#协程的一个小例子\n",
    "def simple_coroutine():\n",
    "    print('-> start')\n",
    "    x = yield\n",
    "    print('-> recived', x)\n",
    "\n",
    "sc = simple_coroutine()\n",
    "print(1111)\n",
    "# 可以使用sc.send(None)，效果一样\n",
    "next(sc)\n",
    "\n",
    "print(2222)\n",
    "sc.send('joseph')"
   ]
  },
  {
   "cell_type": "markdown",
   "metadata": {},
   "source": [
    "#### 协程的终止\n",
    "- 协程中未处理的异常会向上冒泡，传给 next 函数或 send 方法的调用方（即触发协程的对象）\n",
    "- 终止协程的一种方式：\n",
    "    - 发送某个哨符值，让协程退出。\n",
    "    - 内置的 None 和Ellipsis 等常量经常用作哨符值。\n",
    "- 异常\n",
    "    - generator.throw(Exception)\n",
    "    - generator.close()"
   ]
  },
  {
   "cell_type": "code",
   "execution_count": 10,
   "metadata": {},
   "outputs": [
    {
     "name": "stdout",
     "output_type": "stream",
     "text": [
      "-> start\n",
      "-> recived x: 10\n",
      "-> recived x: 20\n",
      "-> run demo exception\n",
      "-> recived x: 40\n"
     ]
    }
   ],
   "source": [
    "# 异常和终止的例子\n",
    "# 这里是让协程抛出指定异常，然后暂停协程。\n",
    "# 在异常被处理过后，协程就会继续执行到下一个yield表达式\n",
    "# 若果未处理，则向上冒泡，找到调用者去处理这个事\n",
    "class DemoException(Exception):\n",
    "    \"\"\"\n",
    "    就是一个普通的自定义异常\n",
    "    custom exception\n",
    "    \"\"\"\n",
    "    pass\n",
    "\n",
    "def handle_exception():\n",
    "    print('-> start')\n",
    "\n",
    "    while True:\n",
    "        try:\n",
    "            x = yield\n",
    "        except DemoException:\n",
    "            print('-> run demo exception')\n",
    "        else:\n",
    "            print('-> recived x:', x)\n",
    "\n",
    "    #因为前面有个while true 所以前面的代码会一直执行不会执行到这句话\n",
    "    raise RuntimeError('this line should never run') \n",
    "\n",
    "# 实例化一个协程\n",
    "he = handle_exception()\n",
    "next(he) # 预激\n",
    "he.send(10) # recived x: 10\n",
    "he.send(20) # recived x: 20\n",
    "\n",
    "he.throw(DemoException) # run demo exception\n",
    "\n",
    "#可以看到异常被处理过后，协程继续向前调用\n",
    "he.send(40) # recived x: 40\n",
    "he.close()"
   ]
  },
  {
   "cell_type": "code",
   "execution_count": 18,
   "metadata": {},
   "outputs": [
    {
     "name": "stdout",
     "output_type": "stream",
     "text": [
      "-> start\n",
      "-> recived x: 10\n",
      "-> recived x: 20\n",
      "-> recived x: 40\n",
      "\n",
      "None\n"
     ]
    }
   ],
   "source": [
    "# 这是一个generator.close的例子\n",
    "# 当生成器遇到generator.close()的时候会抛出GeneratorExit异常。\n",
    "# 一般GeneratorExit没有值，None\n",
    "# 如果生成器没有处理，或抛出StopIteration错误，调用方不会报错。\n",
    "# 否则会向上冒泡\n",
    "class DemoException(Exception):\n",
    "    \"\"\"\n",
    "    custom exception\n",
    "    \"\"\"\n",
    "    pass\n",
    "\n",
    "def handle_exception():\n",
    "    print('-> start')\n",
    "\n",
    "    while True:\n",
    "        try:\n",
    "            x = yield\n",
    "        except DemoException:\n",
    "            print('-> run demo exception')\n",
    "        else:\n",
    "            print('-> recived x:', x)\n",
    "\n",
    "\n",
    "he = handle_exception()\n",
    "next(he)\n",
    "he.send(10) # recived x: 10\n",
    "he.send(20) # recived x: 20\n",
    "\n",
    "\n",
    "try:\n",
    "    he.send(40) # recived x: 40\n",
    "    he.close()\n",
    "    he.send(50) # recived x: 40\n",
    "    he.close()\n",
    "except Exception as e:\n",
    "    # 从结果可以看到，GeneratorExit异常没有具体的值\n",
    "    print(str(e))\n",
    "    print(e.value)"
   ]
  },
  {
   "cell_type": "markdown",
   "metadata": {},
   "source": [
    "#### yield from\n",
    "- 相当于是个通道，或者说是个中间商，使协程的调用更灵活。\n",
    "- 主线程与协程之间的数据交互就通过它\n",
    "- yield from会把StopIteration捕获，并将其作为yield from的返回值"
   ]
  },
  {
   "cell_type": "code",
   "execution_count": 34,
   "metadata": {},
   "outputs": [
    {
     "name": "stdout",
     "output_type": "stream",
     "text": [
      "A\n",
      "['A', 'B']\n",
      "['A', 'B']\n"
     ]
    }
   ],
   "source": [
    "# yield from的一个小例子\n",
    "def gen():\n",
    "    for c in 'AB':\n",
    "        yield c\n",
    "\n",
    "        \n",
    "# 如果list里面放的是一个可迭代的内容话，则会生成一个列表，里面包含可迭代参数的所有内容\n",
    "\n",
    "print (list(gen()))\n",
    "\n",
    "def gen_1():\n",
    "    yield from 'AB'\n",
    "    \n",
    "    \n",
    "print(list(gen_1()))"
   ]
  },
  {
   "cell_type": "markdown",
   "metadata": {},
   "source": [
    "#### 委派生成器\n",
    "- 包含yield from表达式的生成器函数\n",
    "- 就相当于一个中间商"
   ]
  },
  {
   "cell_type": "code",
   "execution_count": null,
   "metadata": {},
   "outputs": [],
   "source": [
    "# 委派生成器的代码\n",
    "from collections import namedtuple\n",
    "\n",
    "# 定义一个命名元组\n",
    "ResClass = namedtuple('Res', 'count average')\n",
    "\n",
    "\n",
    "# 子生成器\n",
    "# 子生成器的作用就是计算平均数\n",
    "# 这个计算是这样的，每来一个数，计算一下平均数\n",
    "# 当来的值时None的时候停止计算\n",
    "# 返回一个（人数，平均数）的Res元组\n",
    "def averager():\n",
    "    total = 0.0\n",
    "    count = 0\n",
    "    average = None\n",
    "\n",
    "    while True:\n",
    "        term = yield\n",
    "        if term is None:\n",
    "            break\n",
    "        total += term\n",
    "        count += 1\n",
    "        average = total / count\n",
    "\n",
    "    return ResClass(count, average)\n",
    "\n",
    "\n",
    "# 委派生成器\n",
    "# 委派生成器的作用就相当于一个中间商\n",
    "# 主程序要什么我就去向生成器要什么\n",
    "# 从子生成器那边得到数据，然后组成一个字典\n",
    "def grouper(storages, key):\n",
    "    while True:\n",
    "        # 获取averager()返回的值\n",
    "        storages[key] = yield from averager()\n",
    "\n",
    "\n",
    "# 客户端代码\n",
    "def client():\n",
    "    process_data = {\n",
    "        'boys_1': [39.0, 40.8, 43.2, 40.8, 43.1, 38.6, 41.4, 40.6, 36.3],\n",
    "        'boys_2': [1.38, 1.5, 1.32, 1.25, 1.37, 1.48, 1.25, 1.49, 1.46]\n",
    "    }\n",
    "\n",
    "    storages = {}\n",
    "    for k, v in process_data.items():\n",
    "        # 获得协程\n",
    "        coroutine = grouper(storages, k)\n",
    "\n",
    "        # 预激协程\n",
    "        next(coroutine)\n",
    "\n",
    "        # 发送数据到协程\n",
    "        for dt in v:\n",
    "            coroutine.send(dt)\n",
    "\n",
    "        # 终止协程\n",
    "        coroutine.send(None)\n",
    "    print(storages)\n",
    "\n",
    "# run\n",
    "client()"
   ]
  },
  {
   "cell_type": "markdown",
   "metadata": {},
   "source": [
    "### asyncio\n",
    "- 异步I/O\n",
    "- 电脑的i/o操作十分的耗时，若果CPU每次都等i/o操作结果的话会十分的浪费资源。所以就找了一个中间的信筒一样的东西，CPU给指令过后，不等待结果，如果有结果了，就将结果放到信箱里面，然后CPU会定时去里面拿东西。\n",
    "- 使用之前需要导入，import\n",
    "    - import asyncio"
   ]
  },
  {
   "cell_type": "code",
   "execution_count": 1,
   "metadata": {},
   "outputs": [
    {
     "name": "stdout",
     "output_type": "stream",
     "text": [
      "Hello world!\n",
      "Start......\n",
      "Done....\n",
      "Hello again!\n"
     ]
    }
   ],
   "source": [
    "# asyncio一个小例子\n",
    "import asyncio\n",
    "\n",
    "# 异步协程\n",
    "@asyncio.coroutine\n",
    "def hello():\n",
    "    print(\"Hello world!\")\n",
    "    # 异步调用asyncio.sleep(1):\n",
    "    print(\"Start......\")\n",
    "    r = yield from asyncio.sleep(3)\n",
    "    print(\"Done....\")\n",
    "    print(\"Hello again!\")\n",
    "\n",
    "# 获取EventLoop:\n",
    "loop = asyncio.get_event_loop()\n",
    "# 执行coroutine\n",
    "loop.run_until_complete(hello())\n",
    "#用完了得关闭\n",
    "loop.close()"
   ]
  },
  {
   "cell_type": "code",
   "execution_count": 2,
   "metadata": {},
   "outputs": [
    {
     "ename": "RuntimeError",
     "evalue": "Event loop is closed",
     "output_type": "error",
     "traceback": [
      "\u001b[1;31m---------------------------------------------------------------------------\u001b[0m",
      "\u001b[1;31mRuntimeError\u001b[0m                              Traceback (most recent call last)",
      "\u001b[1;32m<ipython-input-2-dcf0d347e08a>\u001b[0m in \u001b[0;36m<module>\u001b[1;34m()\u001b[0m\n\u001b[0;32m     19\u001b[0m \u001b[1;33m\u001b[0m\u001b[0m\n\u001b[0;32m     20\u001b[0m \u001b[1;31m# 运行到完成，异步等待任务完成\u001b[0m\u001b[1;33m\u001b[0m\u001b[1;33m\u001b[0m\u001b[0m\n\u001b[1;32m---> 21\u001b[1;33m \u001b[0mloop\u001b[0m\u001b[1;33m.\u001b[0m\u001b[0mrun_until_complete\u001b[0m\u001b[1;33m(\u001b[0m\u001b[0masyncio\u001b[0m\u001b[1;33m.\u001b[0m\u001b[0mwait\u001b[0m\u001b[1;33m(\u001b[0m\u001b[0mtasks\u001b[0m\u001b[1;33m)\u001b[0m\u001b[1;33m)\u001b[0m\u001b[1;33m\u001b[0m\u001b[0m\n\u001b[0m\u001b[0;32m     22\u001b[0m \u001b[1;33m\u001b[0m\u001b[0m\n\u001b[0;32m     23\u001b[0m \u001b[1;31m# 完成过后然后关闭\u001b[0m\u001b[1;33m\u001b[0m\u001b[1;33m\u001b[0m\u001b[0m\n",
      "\u001b[1;32mG:\\Anaconda\\lib\\asyncio\\base_events.py\u001b[0m in \u001b[0;36mrun_until_complete\u001b[1;34m(self, future)\u001b[0m\n\u001b[0;32m    441\u001b[0m         \u001b[0mReturn\u001b[0m \u001b[0mthe\u001b[0m \u001b[0mFuture\u001b[0m\u001b[0;31m'\u001b[0m\u001b[0ms\u001b[0m \u001b[0mresult\u001b[0m\u001b[1;33m,\u001b[0m \u001b[1;32mor\u001b[0m \u001b[1;32mraise\u001b[0m \u001b[0mits\u001b[0m \u001b[0mexception\u001b[0m\u001b[1;33m.\u001b[0m\u001b[1;33m\u001b[0m\u001b[0m\n\u001b[0;32m    442\u001b[0m         \"\"\"\n\u001b[1;32m--> 443\u001b[1;33m         \u001b[0mself\u001b[0m\u001b[1;33m.\u001b[0m\u001b[0m_check_closed\u001b[0m\u001b[1;33m(\u001b[0m\u001b[1;33m)\u001b[0m\u001b[1;33m\u001b[0m\u001b[0m\n\u001b[0m\u001b[0;32m    444\u001b[0m \u001b[1;33m\u001b[0m\u001b[0m\n\u001b[0;32m    445\u001b[0m         \u001b[0mnew_task\u001b[0m \u001b[1;33m=\u001b[0m \u001b[1;32mnot\u001b[0m \u001b[0mfutures\u001b[0m\u001b[1;33m.\u001b[0m\u001b[0misfuture\u001b[0m\u001b[1;33m(\u001b[0m\u001b[0mfuture\u001b[0m\u001b[1;33m)\u001b[0m\u001b[1;33m\u001b[0m\u001b[0m\n",
      "\u001b[1;32mG:\\Anaconda\\lib\\asyncio\\base_events.py\u001b[0m in \u001b[0;36m_check_closed\u001b[1;34m(self)\u001b[0m\n\u001b[0;32m    355\u001b[0m     \u001b[1;32mdef\u001b[0m \u001b[0m_check_closed\u001b[0m\u001b[1;33m(\u001b[0m\u001b[0mself\u001b[0m\u001b[1;33m)\u001b[0m\u001b[1;33m:\u001b[0m\u001b[1;33m\u001b[0m\u001b[0m\n\u001b[0;32m    356\u001b[0m         \u001b[1;32mif\u001b[0m \u001b[0mself\u001b[0m\u001b[1;33m.\u001b[0m\u001b[0m_closed\u001b[0m\u001b[1;33m:\u001b[0m\u001b[1;33m\u001b[0m\u001b[0m\n\u001b[1;32m--> 357\u001b[1;33m             \u001b[1;32mraise\u001b[0m \u001b[0mRuntimeError\u001b[0m\u001b[1;33m(\u001b[0m\u001b[1;34m'Event loop is closed'\u001b[0m\u001b[1;33m)\u001b[0m\u001b[1;33m\u001b[0m\u001b[0m\n\u001b[0m\u001b[0;32m    358\u001b[0m \u001b[1;33m\u001b[0m\u001b[0m\n\u001b[0;32m    359\u001b[0m     \u001b[1;32mdef\u001b[0m \u001b[0m_asyncgen_finalizer_hook\u001b[0m\u001b[1;33m(\u001b[0m\u001b[0mself\u001b[0m\u001b[1;33m,\u001b[0m \u001b[0magen\u001b[0m\u001b[1;33m)\u001b[0m\u001b[1;33m:\u001b[0m\u001b[1;33m\u001b[0m\u001b[0m\n",
      "\u001b[1;31mRuntimeError\u001b[0m: Event loop is closed"
     ]
    }
   ],
   "source": [
    "# 小案例\n",
    "import threading\n",
    "import asyncio\n",
    "\n",
    "# 异步协程\n",
    "@asyncio.coroutine\n",
    "def hello():\n",
    "    print('Hello world! (%s)' % threading.currentThread())\n",
    "    print('Start..... (%s)' % threading.currentThread())\n",
    "    yield from asyncio.sleep(5)\n",
    "    print('Done..... (%s)' % threading.currentThread())\n",
    "    print('Hello again! (%s)' % threading.currentThread())\n",
    "\n",
    "# 启动消息循环\n",
    "loop = asyncio.get_event_loop()\n",
    "\n",
    "# 运行两个task\n",
    "tasks = [hello(), hello()]\n",
    "\n",
    "# 运行到完成，异步等待任务完成\n",
    "loop.run_until_complete(asyncio.wait(tasks))\n",
    "\n",
    "# 完成过后然后关闭\n",
    "loop.close()"
   ]
  },
  {
   "cell_type": "markdown",
   "metadata": {},
   "source": [
    "### async and await\n",
    "- 用来替换上面的asyncio 和yield from\n",
    "- 缺案例\n"
   ]
  },
  {
   "cell_type": "markdown",
   "metadata": {},
   "source": [
    "### aiohttp\n",
    "- 缺案例 去Linux的时候来补"
   ]
  },
  {
   "cell_type": "markdown",
   "metadata": {},
   "source": [
    "### concurrent.futures\n",
    "- 类似于其他语言的线程池的概念\n",
    "- 利用mutilprocessing实现并行计算\n",
    "- 以子进程的形式，并行运行多个Python解释器，利用CPU的多核来提高Python程序的运行速度。由于子进程与主解释器相分离，所以他们的全局解释器锁也是相互独立的。每个子进程都能够完整的使用一个CPU内核。\n",
    "\n",
    "- concurrent.futures.Executor\n",
    "    - ThreadPoolExecutor\n",
    "    - ProcessPoolExecutor\n",
    "- submit(fn ,args,kwargs)\n",
    "    - fn:异步执行的函数\n",
    "    - 后面两个是参数"
   ]
  },
  {
   "cell_type": "code",
   "execution_count": 3,
   "metadata": {},
   "outputs": [
    {
     "name": "stdout",
     "output_type": "stream",
     "text": [
      "False\n",
      "False\n",
      "hello\n",
      "world\n"
     ]
    }
   ],
   "source": [
    "# 小例子\n",
    "from concurrent.futures import ThreadPoolExecutor\n",
    "import time\n",
    "\n",
    "\n",
    "def return_future(msg):\n",
    "    time.sleep(3)\n",
    "    return msg\n",
    "\n",
    "\n",
    "# 创建一个线程池\n",
    "# 相当于有两个子线程\n",
    "pool = ThreadPoolExecutor(max_workers=2)\n",
    "\n",
    "# 往线程池加入2个task\n",
    "f1 = pool.submit(return_future, 'hello')\n",
    "f2 = pool.submit(return_future, 'world')\n",
    "\n",
    "print(f1.done())\n",
    "time.sleep(3)\n",
    "print(f2.done())\n",
    "\n",
    "print(f1.result())\n",
    "print(f2.result())"
   ]
  },
  {
   "cell_type": "code",
   "execution_count": null,
   "metadata": {},
   "outputs": [],
   "source": []
  },
  {
   "cell_type": "code",
   "execution_count": null,
   "metadata": {},
   "outputs": [],
   "source": []
  },
  {
   "cell_type": "code",
   "execution_count": null,
   "metadata": {},
   "outputs": [],
   "source": []
  },
  {
   "cell_type": "code",
   "execution_count": null,
   "metadata": {},
   "outputs": [],
   "source": []
  }
 ],
 "metadata": {
  "kernelspec": {
   "display_name": "Python 3",
   "language": "python",
   "name": "python3"
  },
  "language_info": {
   "codemirror_mode": {
    "name": "ipython",
    "version": 3
   },
   "file_extension": ".py",
   "mimetype": "text/x-python",
   "name": "python",
   "nbconvert_exporter": "python",
   "pygments_lexer": "ipython3",
   "version": "3.6.4"
  }
 },
 "nbformat": 4,
 "nbformat_minor": 2
}
