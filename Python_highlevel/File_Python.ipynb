{
 "cells": [
  {
   "cell_type": "markdown",
   "metadata": {},
   "source": [
    "### Python文件的一些操作\n",
    "- 注意：文件打开要记得关闭"
   ]
  },
  {
   "cell_type": "markdown",
   "metadata": {},
   "source": [
    "#### open\n",
    "- 顾名思义，打开文件\n",
    "- 用法：第一个参数是路径，紧跟着mode\n",
    "- mode：\n",
    "    - r:只读方式打开\n",
    "    - w:写的方式打开，会覆盖以前的文件\n",
    "    - x:创建的方式打开，如果文件已经存在就会报错\n",
    "    - a:以追加的方式（append）\n",
    "    - b:以二进制打开（binary）\n",
    "    - t:以文本方式打开（text）\n",
    "    - 也可以好几个方式一起\n",
    "    "
   ]
  },
  {
   "cell_type": "markdown",
   "metadata": {},
   "source": [
    "#### with\n",
    "- Python为了怕程序员忘记关闭，有个好东西with语句\n",
    "- 格式：with open(\"地址\",\"模式\") as f就行了"
   ]
  },
  {
   "cell_type": "markdown",
   "metadata": {},
   "source": [
    "#### 关于文件的读取\n",
    "- read 是以字符为单位\n",
    "- readline \n",
    "- readlines\n",
    "- seek 是以byte为单位的\n",
    "- tell 用来显示读取指针的当前位置，是以byte为单位"
   ]
  },
  {
   "cell_type": "markdown",
   "metadata": {},
   "source": [
    "#### 关于文件的写\n",
    "- write\n",
    "- writeline"
   ]
  },
  {
   "cell_type": "markdown",
   "metadata": {},
   "source": [
    "### Python中的持久化\n",
    "\n",
    "#### pickle\n",
    "- 序列化：把程序运行中的信息保存在磁盘上\n",
    "- 反序列化：上面的逆过程\n",
    "- pickle使用之前要先import\n",
    "- pickle.dump：序列化 （pickle的好处就是可以存储一些结构化的东西，比如说你的一些数据，实例化的对象 吧啦吧啦。）\n",
    "- pickle.load：反序列化"
   ]
  },
  {
   "cell_type": "markdown",
   "metadata": {},
   "source": [
    "#### shelve\n",
    "- 类似于字典，使用kv保存\n",
    "- 使用之前要import\n",
    "- 有开有闭（open，close）\n",
    "- shelve注意:\n",
    "    - 不支持多个应用并行写入"
   ]
  },
  {
   "cell_type": "code",
   "execution_count": null,
   "metadata": {},
   "outputs": [],
   "source": []
  }
 ],
 "metadata": {
  "kernelspec": {
   "display_name": "Python 3",
   "language": "python",
   "name": "python3"
  },
  "language_info": {
   "codemirror_mode": {
    "name": "ipython",
    "version": 3
   },
   "file_extension": ".py",
   "mimetype": "text/x-python",
   "name": "python",
   "nbconvert_exporter": "python",
   "pygments_lexer": "ipython3",
   "version": "3.6.4"
  }
 },
 "nbformat": 4,
 "nbformat_minor": 2
}
