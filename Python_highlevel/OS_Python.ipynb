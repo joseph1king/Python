{
 "cells": [
  {
   "cell_type": "markdown",
   "metadata": {},
   "source": [
    "## OS\n",
    "    主要就是文件的操作\n",
    "- 跟系统相关的操作,主要包括三个模块\n",
    "    - os\n",
    "    - os.path\n",
    "    - shutil"
   ]
  },
  {
   "cell_type": "markdown",
   "metadata": {},
   "source": [
    "### OS的一些常见的模块\n",
    "    感觉跟Linux的一些命令好像，我也顺道回忆一下Linux的命令吧\n",
    "- OS的使用也一样要先导入import\n",
    "    - import osb"
   ]
  },
  {
   "cell_type": "code",
   "execution_count": 2,
   "metadata": {},
   "outputs": [],
   "source": [
    "import os"
   ]
  },
  {
   "cell_type": "code",
   "execution_count": 3,
   "metadata": {},
   "outputs": [
    {
     "name": "stdout",
     "output_type": "stream",
     "text": [
      "C:\\Users\\Administrator\\Python note&code\\Python_highlevel\n"
     ]
    }
   ],
   "source": [
    "#getcwd() 获取当前的工作目录  （相当于Linux的pwd）\n",
    "mydir = os.getcwd()\n",
    "print(mydir)"
   ]
  },
  {
   "cell_type": "code",
   "execution_count": 5,
   "metadata": {},
   "outputs": [],
   "source": [
    "#chdir (change direction)\n",
    "#用法就是os.chdir"
   ]
  },
  {
   "cell_type": "code",
   "execution_count": 6,
   "metadata": {},
   "outputs": [
    {
     "name": "stdout",
     "output_type": "stream",
     "text": [
      "['.ipynb_checkpoints', 'Exception_Python.ipynb', 'Module_Python.ipynb', 'OS_Python.ipynb', 'Package_Python.ipynb']\n"
     ]
    }
   ],
   "source": [
    "#listdir() 就是把地址全打印出来  （相当于Linux的ls）\n",
    "#是放在一个列表里面的\n",
    "ls = os.listdir()\n",
    "print(ls)"
   ]
  },
  {
   "cell_type": "code",
   "execution_count": 7,
   "metadata": {},
   "outputs": [
    {
     "name": "stdout",
     "output_type": "stream",
     "text": [
      "['.ipynb_checkpoints', 'Exception_Python.ipynb', 'Module_Python.ipynb', 'OS_Python.ipynb', 'Package_Python.ipynb', 'text']\n"
     ]
    }
   ],
   "source": [
    "#makedirs() 创建文件夹   （相当于Linux的mkdir）\n",
    "rst = os.makedirs(\"text\")\n",
    "ls = os.listdir()\n",
    "print(ls)"
   ]
  },
  {
   "cell_type": "code",
   "execution_count": 8,
   "metadata": {},
   "outputs": [],
   "source": [
    "# system() 可以执行系统命令\n",
    "sys = os.system(\"ls\")\n"
   ]
  },
  {
   "cell_type": "code",
   "execution_count": 9,
   "metadata": {},
   "outputs": [
    {
     "name": "stdout",
     "output_type": "stream",
     "text": [
      "G:\\Anaconda;G:\\Anaconda\\Library\\mingw-w64\\bin;G:\\Anaconda\\Library\\usr\\bin;G:\\Anaconda\\Library\\bin;G:\\Anaconda\\Scripts;G:\\Anaconda\\Library\\bin;c:\\programdata\\oracle\\java\\javapath;C:\\WINDOWS\\system32;C:\\WINDOWS;C:\\WINDOWS\\system32\\wbem;C:\\WINDOWS\\system32\\windowspowershell\\v1.0\\;C:\\WINDOWS\\system32\\config\\systemprofile\\.dnx\\bin;c:\\program files\\microsoft dnx\\dnvm\\;%java_home%\\bin;%java_home%\\jre\\bin;G:\\Matlab\\bin\\win32;C:\\Program Files (x86)\\Microsoft SQL Server\\100\\Tools\\Binn\\VSShell\\Common7\\IDE\\;C:\\Program Files (x86)\\Microsoft SQL Server\\100\\Tools\\Binn\\;C:\\Program Files\\Microsoft SQL Server\\100\\Tools\\Binn\\;C:\\Program Files (x86)\\Microsoft SQL Server\\100\\DTS\\Binn\\;C:\\Program Files (x86)\\Microsoft SQL Server\\Client SDK\\ODBC\\130\\Tools\\Binn\\;C:\\Program Files (x86)\\Microsoft SQL Server\\140\\Tools\\Binn\\;C:\\Program Files (x86)\\Microsoft SQL Server\\140\\DTS\\Binn\\;C:\\Program Files (x86)\\Microsoft SQL Server\\140\\Tools\\Binn\\ManagementStudio\\;C:\\Program Files\\Microsoft SQL Server\\140\\Tools\\Binn\\;C:\\Program Files\\Microsoft SQL Server\\140\\DTS\\Binn\\;C:\\Program Files\\Microsoft SQL Server\\Client SDK\\ODBC\\130\\Tools\\Binn\\;C:\\Program Files\\dotnet\\;C:\\Program Files\\Microsoft SQL Server\\130\\Tools\\Binn\\;C:\\WINDOWS\\system32;C:\\WINDOWS;C:\\WINDOWS\\System32\\Wbem;C:\\WINDOWS\\System32\\WindowsPowerShell\\v1.0\\;C:\\WINDOWS\\System32\\OpenSSH\\;G:\\Git\\cmd;C:\\Users\\Administrator\\AppData\\Local\\Microsoft\\WindowsApps;\n"
     ]
    }
   ],
   "source": [
    "#getenv()  获取系统的环境变量\n",
    "#相应的putenv() 添加一个环境变量\n",
    "r = os.getenv(\"PATH\")\n",
    "print(r)"
   ]
  },
  {
   "cell_type": "code",
   "execution_count": null,
   "metadata": {},
   "outputs": [],
   "source": [
    "# exit() 退出当前程序"
   ]
  },
  {
   "cell_type": "code",
   "execution_count": 10,
   "metadata": {},
   "outputs": [
    {
     "name": "stdout",
     "output_type": "stream",
     "text": [
      ".\n",
      "..\n",
      "\\\n",
      "\r\n",
      "\n",
      "nt\n"
     ]
    }
   ],
   "source": [
    "# os.curdir :current direction\n",
    "#os.pardir  ：parent direction\n",
    "#os.sep   ：当前系统的路径的分隔符\n",
    "#os.linesep  ：当前系统的换行符\n",
    "#os.name  ：当前系统的名称 Linux 系统的名称叫POSIX  Windows系统的名称nt\n",
    "\n",
    "\n",
    "print(os.curdir)\n",
    "print(os.pardir)\n",
    "print(os.sep)\n",
    "print(os.linesep)\n",
    "print(os.name)"
   ]
  },
  {
   "cell_type": "markdown",
   "metadata": {},
   "source": [
    "### OS.path 模块\n",
    "- 要先import 下os.path\n",
    "    - import os.path"
   ]
  },
  {
   "cell_type": "code",
   "execution_count": 2,
   "metadata": {},
   "outputs": [],
   "source": [
    "import os.path"
   ]
  },
  {
   "cell_type": "code",
   "execution_count": 13,
   "metadata": {},
   "outputs": [
    {
     "name": "stdout",
     "output_type": "stream",
     "text": [
      "C:\\Users\\Administrator\\Python note&code\\Python_highlevel\n"
     ]
    }
   ],
   "source": [
    "# abspath() 显示绝对路径\n",
    "p = os.path.abspath(\".\")\n",
    "print(p)"
   ]
  },
  {
   "cell_type": "code",
   "execution_count": 17,
   "metadata": {},
   "outputs": [
    {
     "name": "stdout",
     "output_type": "stream",
     "text": [
      "Python_highlevel\n"
     ]
    }
   ],
   "source": [
    "# basename() 获取路径中的文件名\n",
    "# 我直接复制上面的地址的，但是它给我报错，可能在Python中\\U 代表什么特殊的意思吧，所我在中间加了个空格就好了\n",
    "bn = os.path.basename(\"C:\\ Users\\Administrator\\Python note&code\\Python_highlevel\")\n",
    "print(bn)"
   ]
  },
  {
   "cell_type": "code",
   "execution_count": 3,
   "metadata": {},
   "outputs": [
    {
     "name": "stdout",
     "output_type": "stream",
     "text": [
      "\\home\\joseph\\test.py\n"
     ]
    }
   ],
   "source": [
    "#os.path.join() 在Python中最好不要手动写地址，因为不同的系统不同的分割符不一样，而且手写的不具有可移植性\n",
    "#最后是用函数的方法进行拼接\n",
    "p1 = \"\\home\\joseph\"\n",
    "p2 = \"test.py\"\n",
    "p3 = os.path.join(p1,p2)\n",
    "print(p3)"
   ]
  },
  {
   "cell_type": "code",
   "execution_count": 12,
   "metadata": {},
   "outputs": [
    {
     "name": "stdout",
     "output_type": "stream",
     "text": [
      "('\\\\home\\\\joseph', ' test.py')\n",
      "\\home\\joseph  test.py\n"
     ]
    }
   ],
   "source": [
    "#既然能合 当然也能分开了 os.path.split()\n",
    "#这里的分开是分成路径和文件名，并且用元组来保存\n",
    "#不知道Windows下的\\t是不是有特殊的意思，连在一起回出错 ？？？？\n",
    "s = os.path.split(\"\\home\\joseph\\ test.py\")\n",
    "print(s)\n",
    "\n",
    "a,b = os.path.split(\"\\home\\joseph\\ test.py\")\n",
    "print(a,b)\n",
    "\n"
   ]
  },
  {
   "cell_type": "code",
   "execution_count": 14,
   "metadata": {},
   "outputs": [
    {
     "name": "stdout",
     "output_type": "stream",
     "text": [
      "True\n"
     ]
    }
   ],
   "source": [
    "#exists() 路径是否存在\n",
    "b = os.path.exists(\"/\")\n",
    "print(b)\n"
   ]
  },
  {
   "cell_type": "markdown",
   "metadata": {},
   "source": [
    "### shutil 模块"
   ]
  },
  {
   "cell_type": "code",
   "execution_count": 15,
   "metadata": {},
   "outputs": [],
   "source": [
    "import shutil"
   ]
  },
  {
   "cell_type": "code",
   "execution_count": null,
   "metadata": {},
   "outputs": [],
   "source": [
    "# copy() 复制文件\n",
    "#格式shutil.copy(sur,des)"
   ]
  },
  {
   "cell_type": "code",
   "execution_count": null,
   "metadata": {},
   "outputs": [],
   "source": [
    "#copyfile() 复制文件的内容到另一个文件里\n",
    "#格式shutil.copyfile(sur,des)\n"
   ]
  },
  {
   "cell_type": "code",
   "execution_count": 18,
   "metadata": {},
   "outputs": [],
   "source": [
    "#move() 移动文件夹,原位置的就没有了\n",
    "#格式shutil.move(sur,des)"
   ]
  },
  {
   "cell_type": "markdown",
   "metadata": {},
   "source": [
    "### 归档和压缩\n",
    "- 这两个操作也是shutil下的，所以需要import shutil\n",
    "- 归档：把多个文件或文件夹合并到一个文件夹里\n",
    "- 压缩：用算法把多个文件或者文件夹无损或有损的合并到一个文件当中（压缩用了算法，所以所占空间可能会小）"
   ]
  },
  {
   "cell_type": "code",
   "execution_count": 21,
   "metadata": {},
   "outputs": [],
   "source": [
    "#make_archive() 归档\n",
    "#格式shutil.make_archive(\"归档后的目录和文件名\",\"后缀\",\"需要归档的文件\")\n",
    " \n",
    "#unpack_archive() 解包\n",
    "#格式shutil.unpack_archive(\"归档文件地址\",\"解包后的地址\")"
   ]
  },
  {
   "cell_type": "markdown",
   "metadata": {},
   "source": [
    "#### Zip 压缩\n",
    "- 模块名叫zipfile，所以要先import\n",
    "- import zipfile"
   ]
  },
  {
   "cell_type": "code",
   "execution_count": null,
   "metadata": {},
   "outputs": [],
   "source": [
    "# zipfile.ZipFile(\"要压缩的文件夹地址\")\n",
    "\n",
    "# 压缩后，调用ZipFile.getinfo()可以查看压缩的信息\n",
    "\n",
    "# 用ZipFile.namelist() 可以查看压缩包里面文件的列表\n",
    "\n",
    "# 用ZipFile.extractall(\"解压到某个地址\")  可以解压文件"
   ]
  },
  {
   "cell_type": "code",
   "execution_count": null,
   "metadata": {},
   "outputs": [],
   "source": []
  }
 ],
 "metadata": {
  "kernelspec": {
   "display_name": "Python 3",
   "language": "python",
   "name": "python3"
  },
  "language_info": {
   "codemirror_mode": {
    "name": "ipython",
    "version": 3
   },
   "file_extension": ".py",
   "mimetype": "text/x-python",
   "name": "python",
   "nbconvert_exporter": "python",
   "pygments_lexer": "ipython3",
   "version": "3.6.4"
  }
 },
 "nbformat": 4,
 "nbformat_minor": 2
}
