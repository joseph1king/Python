{
 "cells": [
  {
   "cell_type": "markdown",
   "metadata": {},
   "source": [
    "### 正则表达式\n",
    "- 是个很强大的东西，查找东西的时候所遵循的一些规则\n",
    "    - .(点号):表示任意一个字符，除了\\n\n",
    "    - []:匹配括号中列举的任意字符，比如[J，S] JOSEPH，joseph就不行\n",
    "    - \\d:任意一个数字\n",
    "    - \\D:除了数字都可以（就相当于上面的反选）\n",
    "    - \\s:表示空格，tab键\n",
    "    - \\S:除了空白符号\n",
    "    - \\w:单词字符 a-z，A-Z，0-9，_\n",
    "    - \\W:是上面的反选\n",
    "    - * :表示前面内容重复零次或者多次\n",
    "    - + :表示前面内容至少出现一次\n",
    "    - ? :前面才出现的内容零次或者一次\n",
    "    - {m,n}:允许前面内容出现最少m次，最多n次\n",
    "    - ^: 匹配字符串的开始\n",
    "    - 新币符号:匹配字符串的结尾\n",
    "    - \\b:匹配单词的边界\n",
    "    -():对正则表达式内容进行分组， 从第一个括号开始，编号逐渐增大\n",
    "    - \\A: 只匹配字符串开头， \\Aabcd, 则abcd\n",
    "    - \\Z: 仅匹配字符串末尾， abcd\\Z, abcd\n",
    "    - |: 左右任意一个\n",
    "   "
   ]
  },
  {
   "cell_type": "code",
   "execution_count": null,
   "metadata": {},
   "outputs": [],
   "source": [
    "\n",
    "# 正则表达式的一些例子\n",
    "'''\n",
    "  验证一个数字： ^\\d$\n",
    "  必须有一个数字，最少一位：^\\d+$\n",
    "  只能出现数字，且位数为5-10位： ^\\d{5,10}$\n",
    "  注册者输入年龄，要求16岁以上，99岁以下： ^[16-99]$\n",
    "  只能输入英文字符和数字： ^[A-Za-z0-9]$\n",
    "  验证qq号码： [0-9]{5,12} \n",
    "'''"
   ]
  },
  {
   "cell_type": "markdown",
   "metadata": {},
   "source": [
    "### 正则的用法\n",
    "- 正则的方法都在一个包里，老规矩先导入\n",
    "    - import re\n",
    "- 使用compile将表示正则的字符串编译成一个pattern对象\n",
    "- 然后通过pattern提供的一系列方法对文本进行查找匹配，获得匹配结果\n",
    "- 最后使用match对象提供的属性方法获得信息\n",
    "    - 这里要注意的是match是从整个字符串起始开始匹配，如果起始匹配不成功则返回None表示没找到\n",
    "\n",
    "\n",
    "### 一些常用的函数\n",
    "- group()：或得一个或多个分组匹配的字符串。里面可以提供参数，因为是一个组合，所以1，代表组里面的第一个内容，以此类推。如果要获得整个组的所有内容用0，既group(0)\n",
    "- start：获取分组匹配的字符串在原字符串中的起始位置，默认参数为0，0表示的意思跟group中的0是一样的，代表整个组的内容\n",
    "- end：相应的也就有在原字符串的终点位置，默认参数也为0\n",
    "- span：\n"
   ]
  },
  {
   "cell_type": "code",
   "execution_count": null,
   "metadata": {},
   "outputs": [],
   "source": []
  },
  {
   "cell_type": "markdown",
   "metadata": {},
   "source": [
    "### 贪婪和非贪婪\n",
    "- 贪婪是指正则在匹配的时候的一种方式（我也不知道用什么词来形容）\n",
    "- 贪婪：就表示把所有匹配的内容都给找出来，用（*）表示\n",
    "- 非贪婪：就表示把符合内容的最小找出来，换句话说就是把第一个匹配的找到（可能不太严谨，这种说法），用（？）表示\n",
    "- 在正则里面，默认的是贪婪的匹配方式"
   ]
  },
  {
   "cell_type": "code",
   "execution_count": 2,
   "metadata": {},
   "outputs": [
    {
     "name": "stdout",
     "output_type": "stream",
     "text": [
      "<div>joseph</div><div>angel</div>\n",
      "<div>joseph</div>\n"
     ]
    }
   ],
   "source": [
    "import re\n",
    "\n",
    "\n",
    "# u 表示是Unicode编码的\n",
    "title = u'<div>joseph</div><div>angel</div>'\n",
    "\n",
    "# r 表示后面的字符串，有特殊符号不需要转译，该咋咋地\n",
    "#p1的意思就是，匹配这两个标签，里面.*表示任意多的字符都行\n",
    "#所以预期的结果应该就是把title所有的都给匹配\n",
    "p1 = re.compile(r\"<div>.*</div>\")\n",
    "\n",
    "#p2的意思就是，匹配这两个标签，里面.*?表示最短的字符就行\n",
    "#所以预期的结果就是匹配第一个div标签包裹的内容就好\n",
    "p2 = re.compile(r\"<div>.*?</div>\")\n",
    "\n",
    "m1 = p1.search(title)\n",
    "print(m1.group())\n",
    "\n",
    "m2 = p2.search(title)\n",
    "print(m2.group())\n"
   ]
  },
  {
   "cell_type": "code",
   "execution_count": null,
   "metadata": {},
   "outputs": [],
   "source": []
  }
 ],
 "metadata": {
  "kernelspec": {
   "display_name": "Python 3",
   "language": "python",
   "name": "python3"
  },
  "language_info": {
   "codemirror_mode": {
    "name": "ipython",
    "version": 3
   },
   "file_extension": ".py",
   "mimetype": "text/x-python",
   "name": "python",
   "nbconvert_exporter": "python",
   "pygments_lexer": "ipython3",
   "version": "3.6.4"
  }
 },
 "nbformat": 4,
 "nbformat_minor": 2
}
