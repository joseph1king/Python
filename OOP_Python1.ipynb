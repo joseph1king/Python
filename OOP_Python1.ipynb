{
 "cells": [
  {
   "cell_type": "code",
   "execution_count": 13,
   "metadata": {},
   "outputs": [
    {
     "name": "stdout",
     "output_type": "stream",
     "text": [
      "None\n"
     ]
    }
   ],
   "source": [
    "# oop 测试 PythonStudent类\n",
    "class Student():\n",
    "    pass\n",
    "\n",
    "class PythonStudent():\n",
    "    name = None\n",
    "    age = 18 \n",
    "    course = \"Python\"\n",
    "    \n",
    "    def doHomework():\n",
    "        print(\"doing homework\")\n",
    "        return None\n",
    "    \n",
    "        \n",
    "\n",
    "joseph = Student()\n",
    "zy = PythonStudent()\n",
    "print(zy.name)"
   ]
  },
  {
   "cell_type": "markdown",
   "metadata": {},
   "source": [
    "# 通过实例来体会self的作用及含义 "
   ]
  },
  {
   "cell_type": "code",
   "execution_count": 8,
   "metadata": {},
   "outputs": [
    {
     "name": "stdout",
     "output_type": "stream",
     "text": [
      "joseph\n",
      "18\n",
      "********************\n",
      "joseph\n",
      "{}\n"
     ]
    }
   ],
   "source": [
    "class Male():\n",
    "    name = \"joseph\"\n",
    "    age =18 \n",
    "    def speak(self):\n",
    "        name = \"zy\"\n",
    "        age = 16\n",
    "        print(self.name)\n",
    "        print(self.age)\n",
    "\n",
    "        \n",
    "        \n",
    "a = Male()\n",
    "a.speak()\n",
    "print(\"*\" * 20)\n",
    "print(a.name)\n",
    "print(a.__dict__)"
   ]
  },
  {
   "cell_type": "code",
   "execution_count": 12,
   "metadata": {},
   "outputs": [
    {
     "name": "stdout",
     "output_type": "stream",
     "text": [
      "joseph\n",
      "{}\n",
      "********************\n",
      "zy\n",
      "16\n",
      "zy\n",
      "{'name': 'zy', 'age': 16}\n"
     ]
    }
   ],
   "source": [
    "class Male():\n",
    "    name = \"joseph\"\n",
    "    age =18 \n",
    "    def speak(self):\n",
    "        self.name = \"zy\"\n",
    "        self.age = 16\n",
    "        print(self.name)\n",
    "        print(self.age)\n",
    "\n",
    "b = Male()\n",
    "# 仅仅是实例化了 一个Male，所实例化的对象b并没有对类中的成员的值进行修改，所以对象b会默认延用类中初始的值，所以b.name显示的是joseph\n",
    "print(b.name)\n",
    "\n",
    "#但实际上因为没有修改，Python可能是想节省内存空间，并没有直接给对象b另外划分一个内存空间，仅仅只是让b指向类的地址，所以其实对象b是空的\n",
    "print(b.__dict__)\n",
    "print(\"*\" * 20)\n",
    "\n",
    "#当对象b调用类中的方法时候，因为方法中的self，self表示会将对象自己作为第一个参数传到里面去。\n",
    "#换句话说就是self相当于b，所以self.name就相当于b.name，所以就相当于在speak方法汇中将原本的对象b的成员赋值\n",
    "#所以输出结果是zy,16\n",
    "b.speak()\n",
    "print(b.name)\n",
    "print(b.__dict__)\n"
   ]
  },
  {
   "cell_type": "markdown",
   "metadata": {},
   "source": [
    "# 对象对成员及方法的访问"
   ]
  },
  {
   "cell_type": "code",
   "execution_count": 16,
   "metadata": {},
   "outputs": [
    {
     "ename": "TypeError",
     "evalue": "speak() takes 0 positional arguments but 1 was given",
     "output_type": "error",
     "traceback": [
      "\u001b[1;31m---------------------------------------------------------------------------\u001b[0m",
      "\u001b[1;31mTypeError\u001b[0m                                 Traceback (most recent call last)",
      "\u001b[1;32m<ipython-input-16-bc0193daf635>\u001b[0m in \u001b[0;36m<module>\u001b[1;34m()\u001b[0m\n\u001b[0;32m      5\u001b[0m \u001b[1;33m\u001b[0m\u001b[0m\n\u001b[0;32m      6\u001b[0m \u001b[0mangel\u001b[0m \u001b[1;33m=\u001b[0m \u001b[0mFemale\u001b[0m\u001b[1;33m(\u001b[0m\u001b[1;33m)\u001b[0m\u001b[1;33m\u001b[0m\u001b[0m\n\u001b[1;32m----> 7\u001b[1;33m \u001b[0mangel\u001b[0m\u001b[1;33m.\u001b[0m\u001b[0mspeak\u001b[0m\u001b[1;33m(\u001b[0m\u001b[1;33m)\u001b[0m\u001b[1;33m\u001b[0m\u001b[0m\n\u001b[0m",
      "\u001b[1;31mTypeError\u001b[0m: speak() takes 0 positional arguments but 1 was given"
     ]
    }
   ],
   "source": [
    "class Female(): \n",
    "    name = \"zy\"\n",
    "    age =16\n",
    "    def speak():\n",
    "        print(\"hello, I am zy\")\n",
    "\n",
    "      \n",
    "angel = Female()\n",
    "angel.speak()\n",
    "\n",
    "\n",
    "#这时候报错说speak中没有参数，最后却给了参数。这是因为，当方法中没有加self时就是绑定类方法。\n",
    "#绑定参数只能用类名来访问。"
   ]
  },
  {
   "cell_type": "code",
   "execution_count": 18,
   "metadata": {},
   "outputs": [
    {
     "name": "stdout",
     "output_type": "stream",
     "text": [
      "hello, I am zy\n"
     ]
    }
   ],
   "source": [
    "class Female(): \n",
    "    name = \"zy\"\n",
    "    age =16\n",
    "    def speak():\n",
    "        print(\"hello, I am zy\")\n",
    "\n",
    "      \n",
    "angel = Female()\n",
    "\n",
    "#改成类名就能访问了,因为当前面是类名的时候不会作为一个参数传到里面去\n",
    "Female.speak()\n"
   ]
  },
  {
   "cell_type": "markdown",
   "metadata": {},
   "source": [
    "## 在方法中访问类中的成员"
   ]
  },
  {
   "cell_type": "code",
   "execution_count": 21,
   "metadata": {},
   "outputs": [
    {
     "name": "stdout",
     "output_type": "stream",
     "text": [
      "hello, I am zy\n"
     ]
    },
    {
     "ename": "NameError",
     "evalue": "name 'name' is not defined",
     "output_type": "error",
     "traceback": [
      "\u001b[1;31m---------------------------------------------------------------------------\u001b[0m",
      "\u001b[1;31mNameError\u001b[0m                                 Traceback (most recent call last)",
      "\u001b[1;32m<ipython-input-21-78cb836bea0b>\u001b[0m in \u001b[0;36m<module>\u001b[1;34m()\u001b[0m\n\u001b[0;32m      9\u001b[0m \u001b[1;33m\u001b[0m\u001b[0m\n\u001b[0;32m     10\u001b[0m \u001b[0mangel\u001b[0m \u001b[1;33m=\u001b[0m \u001b[0mFemale\u001b[0m\u001b[1;33m(\u001b[0m\u001b[1;33m)\u001b[0m\u001b[1;33m\u001b[0m\u001b[0m\n\u001b[1;32m---> 11\u001b[1;33m \u001b[0mFemale\u001b[0m\u001b[1;33m.\u001b[0m\u001b[0mspeak\u001b[0m\u001b[1;33m(\u001b[0m\u001b[1;33m)\u001b[0m\u001b[1;33m\u001b[0m\u001b[0m\n\u001b[0m",
      "\u001b[1;32m<ipython-input-21-78cb836bea0b>\u001b[0m in \u001b[0;36mspeak\u001b[1;34m()\u001b[0m\n\u001b[0;32m      4\u001b[0m     \u001b[1;32mdef\u001b[0m \u001b[0mspeak\u001b[0m\u001b[1;33m(\u001b[0m\u001b[1;33m)\u001b[0m\u001b[1;33m:\u001b[0m\u001b[1;33m\u001b[0m\u001b[0m\n\u001b[0;32m      5\u001b[0m         \u001b[0mprint\u001b[0m\u001b[1;33m(\u001b[0m\u001b[1;34m\"hello, I am zy\"\u001b[0m\u001b[1;33m)\u001b[0m\u001b[1;33m\u001b[0m\u001b[0m\n\u001b[1;32m----> 6\u001b[1;33m         \u001b[0mprint\u001b[0m\u001b[1;33m(\u001b[0m\u001b[0mname\u001b[0m\u001b[1;33m)\u001b[0m\u001b[1;33m\u001b[0m\u001b[0m\n\u001b[0m\u001b[0;32m      7\u001b[0m         \u001b[0mprint\u001b[0m\u001b[1;33m(\u001b[0m\u001b[0mage\u001b[0m\u001b[1;33m)\u001b[0m\u001b[1;33m\u001b[0m\u001b[0m\n\u001b[0;32m      8\u001b[0m \u001b[1;33m\u001b[0m\u001b[0m\n",
      "\u001b[1;31mNameError\u001b[0m: name 'name' is not defined"
     ]
    }
   ],
   "source": [
    "class Female(): \n",
    "    name = \"zy\"\n",
    "    age =16\n",
    "    def speak():\n",
    "        print(\"hello, I am zy\")\n",
    "        print(name)\n",
    "        print(age)\n",
    "\n",
    "      \n",
    "angel = Female()\n",
    "Female.speak()\n",
    "\n",
    "\n",
    "#这时候报错说没有定义"
   ]
  },
  {
   "cell_type": "code",
   "execution_count": 22,
   "metadata": {},
   "outputs": [
    {
     "name": "stdout",
     "output_type": "stream",
     "text": [
      "hello, I am zy\n",
      "zy\n",
      "16\n"
     ]
    }
   ],
   "source": [
    "class Female(): \n",
    "    name = \"zy\"\n",
    "    age =16\n",
    "    def speak():\n",
    "        print(\"hello, I am zy\")\n",
    "        \n",
    "        # 在成员前面加上__class__就可以访问了\n",
    "        print(__class__.name)\n",
    "        print(__class__.age)\n",
    "\n",
    "      \n",
    "angel = Female()\n",
    "Female.speak()\n",
    "\n"
   ]
  },
  {
   "cell_type": "markdown",
   "metadata": {},
   "source": [
    "## 鸭子模型（duck model）\n",
    "#### 所谓鸭子模型就是“你有翅膀，你会游泳，你会嘎嘎叫就认定你是鸭子”"
   ]
  },
  {
   "cell_type": "code",
   "execution_count": 32,
   "metadata": {},
   "outputs": [
    {
     "name": "stdout",
     "output_type": "stream",
     "text": [
      "king\n",
      "19\n",
      "********************\n",
      "king\n",
      "19\n",
      "********************\n",
      "joseph\n",
      "18\n",
      "********************\n",
      "zy\n",
      "16\n"
     ]
    }
   ],
   "source": [
    "class One():\n",
    "    name = \"joseph\"\n",
    "    age =18\n",
    "    \n",
    "    def __init__(self):\n",
    "        self.name = \"king\"\n",
    "        self.age = 19\n",
    "        \n",
    "    def display(self):\n",
    "        print(self.name)\n",
    "        print(self.age)\n",
    "        \n",
    "class Two():\n",
    "    name = \"zy\"\n",
    "    age = 16\n",
    "    \n",
    "Joe = One()\n",
    "\n",
    "Joe.display()\n",
    "print(\"*\" * 20)\n",
    "# 如果括号中不加入参数，则系统会报错\n",
    "# 所以这里将实例化的Joe放进去，因为Joe有name和age属性，所以代码应该可以转译为打印Joe.name和Joe.age\n",
    "One.display(Joe)\n",
    "print(\"*\" * 20)\n",
    "# 进一步猜想，我若直接将类名One放进去是不是也可以，因为类中也有name和age\n",
    "One.display(One)\n",
    "print(\"*\" * 20)\n",
    "# 再进一步猜想，我如将Two放进去是不是也可以，因为Two中也含有name和age属性\n",
    "One.display(Two)"
   ]
  },
  {
   "cell_type": "code",
   "execution_count": null,
   "metadata": {},
   "outputs": [],
   "source": []
  }
 ],
 "metadata": {
  "kernelspec": {
   "display_name": "Python 3",
   "language": "python",
   "name": "python3"
  },
  "language_info": {
   "codemirror_mode": {
    "name": "ipython",
    "version": 3
   },
   "file_extension": ".py",
   "mimetype": "text/x-python",
   "name": "python",
   "nbconvert_exporter": "python",
   "pygments_lexer": "ipython3",
   "version": "3.6.4"
  }
 },
 "nbformat": 4,
 "nbformat_minor": 2
}
