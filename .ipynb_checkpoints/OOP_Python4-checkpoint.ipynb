{
 "cells": [
  {
   "cell_type": "markdown",
   "metadata": {},
   "source": [
    "#### Python中的抽象\n",
    "- 抽象方法：\n",
    "    - 一个类用来描述一类事物，一类事物有一些特征，比如说说话，人会说话，动物也会“说话”。但是人的说话和动物的说话又不同，所以不能在一开始就把说话的具体内容或方式定义死了，但是都需要有说话这个属性。这时候抽象就派上用场了，抽象方法就是规定一类事物所需要的属性，但没有具体实现或描述。（说白了就是给你个空名字，自己用的时候自己去添加内容实现）\n",
    "    - 抽象方法要用到@修饰符 然后abstract... e.g@abstractmethod（这就是抽象方法）\n",
    "\n",
    "- 抽象类：\n",
    "    - Python中抽象类需要import一个abc模块\n",
    "    - 抽象类中可以有抽象方法，也可以有非抽象方法\n",
    "    - 抽象类不可以直接实例化\n",
    "    - 抽象类必须在继承后才可以使用，而且子类继承后要把抽象类中的所有抽象方法全实现了才行。\n"
   ]
  },
  {
   "cell_type": "code",
   "execution_count": null,
   "metadata": {},
   "outputs": [],
   "source": [
    "# 抽象类的例子\n",
    "\n",
    "import abc\n",
    "\n",
    "class Human(metaclass = abc.ABCMeta):\n",
    "    \n",
    "    # 普通抽象方法的定义\n",
    "    @abc.abstractmethod\n",
    "    def speak(self):\n",
    "        pass\n",
    "    \n",
    "    #静态的抽象方法\n",
    "    @abc.abstractstaticmethod\n",
    "    def walk():\n",
    "        pass\n",
    "    \n",
    "    # 类抽象方法\n",
    "    @abc.abstractclassmethod\n",
    "    def eat():\n",
    "        pass"
   ]
  },
  {
   "cell_type": "markdown",
   "metadata": {},
   "source": [
    "#### Python中的函数名可以当成变量来用（很神奇）"
   ]
  },
  {
   "cell_type": "code",
   "execution_count": 6,
   "metadata": {},
   "outputs": [
    {
     "name": "stdout",
     "output_type": "stream",
     "text": [
      "hello\n",
      "<class 'function'>\n",
      "{}\n",
      "********************\n",
      "hello\n",
      "<class 'function'>\n"
     ]
    }
   ],
   "source": [
    "# 定义了一个函数\n",
    "def speak():\n",
    "    print(\"hello\")\n",
    "\n",
    "    \n",
    "# 调用一下试试\n",
    "speak()\n",
    "print(type(speak))\n",
    "\n",
    "print(\"*\" * 20)\n",
    "\n",
    "# 这个时候把speak函数当成一个“变量”，赋值给human\n",
    "human = speak\n",
    "\n",
    "# 见证奇迹的时刻，human也成了一个跟speak一样的函数\n",
    "human()\n",
    "print(type(human))"
   ]
  },
  {
   "cell_type": "code",
   "execution_count": 10,
   "metadata": {},
   "outputs": [
    {
     "name": "stdout",
     "output_type": "stream",
     "text": [
      "组装测试\n"
     ]
    }
   ],
   "source": [
    "# 进一步说，我可以直接定义一个空类，里面没有方法，我可以组装\n",
    "class A():\n",
    "    pass\n",
    "\n",
    "\n",
    "def play(self):\n",
    "    print(\"组装测试\")\n",
    "    \n",
    "A.play = play\n",
    "\n",
    "a = A()\n",
    "a.play()\n"
   ]
  },
  {
   "cell_type": "code",
   "execution_count": 11,
   "metadata": {},
   "outputs": [
    {
     "name": "stdout",
     "output_type": "stream",
     "text": [
      "组装测试\n"
     ]
    }
   ],
   "source": [
    "# 能直接给类添加，也可以直接给类的实例添加，不过方法有点不同\n",
    "from types import MethodType\n",
    "class A():\n",
    "    pass\n",
    "\n",
    "\n",
    "def play(self):\n",
    "    print(\"组装测试\")\n",
    "    \n",
    "a = A()\n",
    "\n",
    "# 把play这个函数绑定到A类里面\n",
    "a.play=MethodType(play,A)\n",
    "a.play()\n"
   ]
  },
  {
   "cell_type": "code",
   "execution_count": 14,
   "metadata": {},
   "outputs": [
    {
     "name": "stdout",
     "output_type": "stream",
     "text": [
      "hello\n"
     ]
    }
   ],
   "source": [
    "# 还可以用type来创建一个类\n",
    "\n",
    "def speak(self):\n",
    "    print(\"hello\")\n",
    "    \n",
    "def play(self):\n",
    "    print(\"playing...\")\n",
    "    \n",
    "# type中的第一个参数是函数名，第二个是继承的类（必须是tuple类型），第三个是类中具有的方法 \n",
    "A = type(\"Person\",(object,),{\"Pspeak\":speak,\"Pplay\":play})\n",
    "\n",
    "\n",
    "a = A()\n",
    "a.Pspeak()\n"
   ]
  },
  {
   "cell_type": "code",
   "execution_count": 15,
   "metadata": {},
   "outputs": [],
   "source": [
    "# 元类实现 MetaClass，用来创造别的类的类，有点绕\n",
    "# 元类的定义一般以MetaClass结尾（约定俗成的）\n",
    "# 元类必须要继承type\n",
    "\n",
    "#元类的写法格式\n",
    "class JosephMetaClass(type):\n",
    "    def __new__(cls,name,bases,attrs):\n",
    "        \n",
    "        return type.__new__(cls,name,bases,attrs)\n",
    "\n"
   ]
  }
 ],
 "metadata": {
  "kernelspec": {
   "display_name": "Python 3",
   "language": "python",
   "name": "python3"
  },
  "language_info": {
   "codemirror_mode": {
    "name": "ipython",
    "version": 3
   },
   "file_extension": ".py",
   "mimetype": "text/x-python",
   "name": "python",
   "nbconvert_exporter": "python",
   "pygments_lexer": "ipython3",
   "version": "3.6.4"
  }
 },
 "nbformat": 4,
 "nbformat_minor": 2
}
