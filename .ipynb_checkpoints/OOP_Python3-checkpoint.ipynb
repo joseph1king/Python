{
 "cells": [
  {
   "cell_type": "markdown",
   "metadata": {},
   "source": [
    "#### 成员描述符"
   ]
  },
  {
   "cell_type": "code",
   "execution_count": 1,
   "metadata": {},
   "outputs": [
    {
     "name": "stdout",
     "output_type": "stream",
     "text": [
      "16\n"
     ]
    }
   ],
   "source": [
    "# property的应用\n",
    "\n",
    "class Person():\n",
    "    def fget(self):\n",
    "        return self._age\n",
    "    \n",
    "    #这就相当于对数据的一种清洗，把用户输入的不规则的数据，转换成统一的一种数据形式\n",
    "    def fset(self,age):\n",
    "        self._age=int(age)\n",
    "    \n",
    "    def fdel(self):\n",
    "        del self._age\n",
    "        \n",
    "    age = property(fget,fset,fdel,\"操作结束\")\n",
    "    \n",
    "    \n",
    "p = Person()\n",
    "p.age= 16.5\n",
    "print(p.age)"
   ]
  },
  {
   "cell_type": "markdown",
   "metadata": {},
   "source": [
    "#### 一些常用的类的函数\n",
    "- __dict__：以字典的形式，显示类中的成员\n",
    "- __doc__：显示类的说明文档\n",
    "- __name__：获取类的名字\n",
    "- __bases__：获取类的父类"
   ]
  },
  {
   "cell_type": "code",
   "execution_count": 2,
   "metadata": {},
   "outputs": [
    {
     "name": "stdout",
     "output_type": "stream",
     "text": [
      "{'__module__': '__main__', 'fget': <function Person.fget at 0x00000270AF04E6A8>, 'fset': <function Person.fset at 0x00000270AF04EAE8>, 'fdel': <function Person.fdel at 0x00000270AF04EB70>, 'age': <property object at 0x00000270AF067778>, '__dict__': <attribute '__dict__' of 'Person' objects>, '__weakref__': <attribute '__weakref__' of 'Person' objects>, '__doc__': None}\n",
      "None\n",
      "Person\n",
      "(<class 'object'>,)\n"
     ]
    }
   ],
   "source": [
    "print(Person.__dict__)\n",
    "\n",
    "print(Person.__doc__)\n",
    "\n",
    "print(Person.__name__)\n",
    "\n",
    "print(Person.__bases__)"
   ]
  },
  {
   "cell_type": "markdown",
   "metadata": {},
   "source": [
    "#### Python中的魔术方法\n",
    "- 所谓魔术方法，就是不要你动，他自己动。一般的形式就是前后都有两个下划线，像构造函数__init__\n",
    "    - 魔法函数的一些例子：\n",
    "        - __new__：对象实例化\n",
    "        - __init__：\n",
    "        - __call__：可以把实例当函数调用。\n",
    "        - __str__：把对象当字符串使用时候调用，转换为适合人看的。\n",
    "        - __repr__：跟上面类似，转化为适合机器阅读"
   ]
  },
  {
   "cell_type": "code",
   "execution_count": 4,
   "metadata": {},
   "outputs": [
    {
     "name": "stdout",
     "output_type": "stream",
     "text": [
      "print for the first time\n"
     ]
    },
    {
     "ename": "TypeError",
     "evalue": "'Test' object is not callable",
     "output_type": "error",
     "traceback": [
      "\u001b[1;31m---------------------------------------------------------------------------\u001b[0m",
      "\u001b[1;31mTypeError\u001b[0m                                 Traceback (most recent call last)",
      "\u001b[1;32m<ipython-input-4-c26aa66fed33>\u001b[0m in \u001b[0;36m<module>\u001b[1;34m()\u001b[0m\n\u001b[0;32m     11\u001b[0m \u001b[0mt\u001b[0m \u001b[1;33m=\u001b[0m \u001b[0mTest\u001b[0m\u001b[1;33m(\u001b[0m\u001b[1;33m)\u001b[0m\u001b[1;33m\u001b[0m\u001b[0m\n\u001b[0;32m     12\u001b[0m \u001b[1;31m# 在没有__call__时候是不可以将实例当成函数用的\u001b[0m\u001b[1;33m\u001b[0m\u001b[1;33m\u001b[0m\u001b[0m\n\u001b[1;32m---> 13\u001b[1;33m \u001b[0mt\u001b[0m\u001b[1;33m(\u001b[0m\u001b[1;33m)\u001b[0m\u001b[1;33m\u001b[0m\u001b[0m\n\u001b[0m",
      "\u001b[1;31mTypeError\u001b[0m: 'Test' object is not callable"
     ]
    }
   ],
   "source": [
    "#__call__的案例\n",
    "\n",
    "class Test():\n",
    "    def __init__(self):\n",
    "        print(\"print for the first time\")\n",
    "        \n",
    "   # def __call__(self):\n",
    "   #     print(\"print for the call time\")\n",
    "        \n",
    "   \n",
    "t = Test()\n",
    "# 在没有__call__时候是不可以将实例当成函数用的\n",
    "t()\n"
   ]
  },
  {
   "cell_type": "code",
   "execution_count": 5,
   "metadata": {},
   "outputs": [
    {
     "name": "stdout",
     "output_type": "stream",
     "text": [
      "print for the first time\n",
      "print for the call time\n"
     ]
    }
   ],
   "source": [
    "class Test():\n",
    "    def __init__(self):\n",
    "        print(\"print for the first time\")\n",
    "        \n",
    "    def __call__(self):\n",
    "        print(\"print for the call time\")\n",
    "        \n",
    "   \n",
    "t = Test()\n",
    "# 有__call__时候就可以用了\n",
    "t()\n"
   ]
  },
  {
   "cell_type": "markdown",
   "metadata": {},
   "source": [
    "#### 描述符（要补充）常见的内建函数\n",
    "- __get__\n",
    "- __set__\n",
    "- __delete__\n",
    "- __getattr__\n",
    "- __setattr__"
   ]
  },
  {
   "cell_type": "code",
   "execution_count": 7,
   "metadata": {},
   "outputs": [
    {
     "name": "stdout",
     "output_type": "stream",
     "text": [
      "small\n",
      "can't find age\n",
      "None\n"
     ]
    }
   ],
   "source": [
    "# __getattr__ 例子\n",
    "class Bird():\n",
    "    name = \"small\"\n",
    "    \n",
    "    def __getattr__(self,name):\n",
    "        print(\"can't find {0}\".format(name))\n",
    "        \n",
    "        \n",
    "b = Bird()\n",
    "print(b.name)\n",
    "\n",
    "# 当没有找到要调用的成员的时候调用__getattr__\n",
    "print(b.age)\n",
    "\n",
    "#None 是__getattr__函数的返回值，函数默认是有返回值的，所以这里显示了一个None"
   ]
  },
  {
   "cell_type": "code",
   "execution_count": null,
   "metadata": {},
   "outputs": [],
   "source": [
    "# __setattr__例子\n",
    "class Fish():\n",
    "    def "
   ]
  },
  {
   "cell_type": "markdown",
   "metadata": {},
   "source": [
    "#### 类和对象的三种方法\n",
    "- 实例方法\n",
    "    - 实例化后才能用的方法\n",
    "- 静态方法\n",
    "    - 不需要实例化，通过类直接访问\n",
    "- 类方法\n",
    "    - 不需要实例化"
   ]
  },
  {
   "cell_type": "code",
   "execution_count": 8,
   "metadata": {},
   "outputs": [
    {
     "name": "stdout",
     "output_type": "stream",
     "text": [
      "<__main__.People object at 0x000001E60699B4E0>\n",
      "human\n",
      "<class '__main__.People'>\n",
      "talk to me\n",
      "walking by foot\n"
     ]
    }
   ],
   "source": [
    "\n",
    "class People():\n",
    "    \n",
    "    # 实例方法\n",
    "    def display(self):\n",
    "        print(self)\n",
    "        print(\"human\")\n",
    "        \n",
    "\n",
    "    # 类方法中习惯加上cls用来跟实例方法进行区分\n",
    "    @classmethod\n",
    "    def speak(cls):\n",
    "        print(cls)\n",
    "        print(\"talk to me\")\n",
    "        \n",
    "    #静态方法\n",
    "    @staticmethod\n",
    "    def walk():\n",
    "        print(\"walking by foot\")\n",
    "        \n",
    "#实例方法必须要先实例化\n",
    "p = People()\n",
    "p.display()\n",
    "\n",
    "\n",
    "#类方法直接用类名调用就可以，不用实例化\n",
    "People.speak()\n",
    "\n",
    "#静态方法也是如此\n",
    "People.walk()\n"
   ]
  }
 ],
 "metadata": {
  "kernelspec": {
   "display_name": "Python 3",
   "language": "python",
   "name": "python3"
  },
  "language_info": {
   "codemirror_mode": {
    "name": "ipython",
    "version": 3
   },
   "file_extension": ".py",
   "mimetype": "text/x-python",
   "name": "python",
   "nbconvert_exporter": "python",
   "pygments_lexer": "ipython3",
   "version": "3.6.4"
  }
 },
 "nbformat": 4,
 "nbformat_minor": 2
}
