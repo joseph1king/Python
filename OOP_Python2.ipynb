{
 "cells": [
  {
   "cell_type": "markdown",
   "metadata": {},
   "source": [
    "### Python OOP\n",
    "   - 封装\n",
    "     - Python中有public、private和protected，但是这几个都不是关键字\n",
    "     - 私有（private）：跟其他语言不一样，在Python中只是将私有变量，采用一种改名策略而隐藏起来了。真的想访问在变量前面加上__classname也是可以的。\n",
    "     - 受保护的（protected）：受保护是对成员进行一定基础的封装，最后在类和子类中可以访问。\n",
    "     - 公共的（public）：基本上没有啥操作，就是哪都能访问。\n",
    "    \n",
    "    \n",
    "   - 继承\n",
    "       - 被继承的类有这些称呼：父类、基类、超类。\n",
    "       - 继承的类有这些称呼：子类、派生类。\n",
    "       - 继承的一些特征\n",
    "           - 所有的类追本溯源都继承object类\n",
    "           - 子类可以调用访问父类中除了私有以外的所有成员\n",
    "           - 子类和父类的继承关系并不是子类继承父类后，就新建了一个类里面包含了父类的所有可用的东西。而只是一种引用的关系，子类中用到父类中的东西时，是引用父类里面的东西。\n",
    "           - 子类中如果定义了与父类中相同的成员，在调用的时候优先调用子类中的，因为近嘛。哈哈哈哈。\n",
    "           - 子类对父类方法的重写（相当于override）。在子类中定义一个与父类相同名字的方法，在里面使用父类名.方法名来获取原有父类方法，或者用super().方法名。\n",
    "       - 继承中变量的调用顺序\n",
    "           - 自己能解决的一定不会求别人，万不得已才回去找自己爹。\n",
    "           - 构造函数就是用来初始化的，形式是__init__，继承中的构造函数也符合上一条原则。\n",
    "           - 子类中没有定义构造函数时，调用上一层父类中的构造函数，但是注意构造函数中的参数必须要匹配。\n",
    "       - super\n",
    "         super不是关键字，是一个类\n",
    "           - super的作用是获取MRO（MethodResolutionOrder）列表中的第一个类（MRO的功能就相当于查血统）\n",
    "       - 单继承和多继承\n",
    "           - Python中允许多继承，但是多继承的隐患比较大。多继承关系比较混乱，然后出错了排查起来很麻烦。\n",
    "           - 在多继承中，（）中的父类有顺序。\n",
    "       - 菱形继承/钻石继承问题\n",
    "         一个子类继承两个父类，两个父类又继承同一个父类（最简单的菱形继承问题）。\n",
    "           - Python中在最初（经典方法）是采用从左至右的深度遍历，如果出现同样的，就保留最先出现的那个。\n",
    "           - Python后来有一种（新式遍历）方法同上，但是遇到同样的我保留最后一个出现的，而且最终还有一个终极老爹object。\n",
    "           - Python现在所用的（C3算法），具体这个算法是怎么个原理我也不想深究。。。我只要知道好用就行，哈哈哈。[http://www.cnblogs.com/whatisfantasy/p/6046991.html] 别人的解释。\n",
    "   - 多态\n",
    "       - 多态就是同一个对象在不同状态出现。\n",
    "       - Mix In的设计模式\n",
    "           - Mix In就是对象具有亲爹的血统，就是跟亲爹一个种族。但是对象可以有其他种族的功能，但不具有其他种族的血统。（有点像小说哈哈哈哈）。换句话说，爹只有一个，功能可以很多。e.g 小明是属于人这个物种，小明可以会游泳，但他没有鱼类的血统。\n",
    "       - Mix In就相当于是一个模块，具有一个功能，但不是一个种族。\n",
    "   "
   ]
  },
  {
   "cell_type": "code",
   "execution_count": 5,
   "metadata": {},
   "outputs": [
    {
     "name": "stdout",
     "output_type": "stream",
     "text": [
      "People\n",
      "eating....\n"
     ]
    },
    {
     "ename": "NameError",
     "evalue": "name 'jeck' is not defined",
     "output_type": "error",
     "traceback": [
      "\u001b[1;31m---------------------------------------------------------------------------\u001b[0m",
      "\u001b[1;31mNameError\u001b[0m                                 Traceback (most recent call last)",
      "\u001b[1;32m<ipython-input-5-f16fdc9d7705>\u001b[0m in \u001b[0;36m<module>\u001b[1;34m()\u001b[0m\n\u001b[0;32m     22\u001b[0m \u001b[1;33m\u001b[0m\u001b[0m\n\u001b[0;32m     23\u001b[0m \u001b[1;31m#jack访问私有的内容,会报错说没有定义这个变量\u001b[0m\u001b[1;33m\u001b[0m\u001b[1;33m\u001b[0m\u001b[0m\n\u001b[1;32m---> 24\u001b[1;33m \u001b[0mprint\u001b[0m\u001b[1;33m(\u001b[0m\u001b[0mjeck\u001b[0m\u001b[1;33m.\u001b[0m\u001b[0m__score\u001b[0m\u001b[1;33m)\u001b[0m\u001b[1;33m\u001b[0m\u001b[0m\n\u001b[0m",
      "\u001b[1;31mNameError\u001b[0m: name 'jeck' is not defined"
     ]
    }
   ],
   "source": [
    "# 继承的例子\n",
    "\n",
    "#这里需要注意下，所有的类追本溯源都继承一个叫object的父类\n",
    "class Person():\n",
    "    name = \"People\"\n",
    "    age = 10\n",
    "    __score = 59\n",
    "    def eat(self):\n",
    "        print(\"eating....\")\n",
    "\n",
    "        \n",
    "# 继承的类是写在括号里面的        \n",
    "class Children(Person):\n",
    "    pass\n",
    "\n",
    "jack = Children()\n",
    "\n",
    "#jack 是children的一个实例对象，但是children里面没有name以及方法eat但是可以看到结果\n",
    "#这些都是从person这个父类中继承来的\n",
    "print(jack.name)\n",
    "jack.eat()\n",
    "\n",
    "#jack访问私有的内容,会报错说没有定义这个变量\n",
    "print(jeck.__score)"
   ]
  },
  {
   "cell_type": "code",
   "execution_count": 6,
   "metadata": {},
   "outputs": [
    {
     "name": "stdout",
     "output_type": "stream",
     "text": [
      "Jack\n"
     ]
    }
   ],
   "source": [
    "# 子类的成员与父类成员相同，则优先用子类的\n",
    "class Person():\n",
    "    name = \"People\"\n",
    "    age = 10\n",
    "    __score = 59\n",
    "    def eat(self):\n",
    "        print(\"eating....\")\n",
    "\n",
    "        \n",
    "# 继承的类是写在括号里面的        \n",
    "class Children(Person):\n",
    "    name = \"Jack\"\n",
    "\n",
    "    \n",
    "# 就近原则吧，我猜是的\n",
    "jack = Children()\n",
    "print(jack.name)\n",
    "\n"
   ]
  },
  {
   "cell_type": "code",
   "execution_count": 9,
   "metadata": {},
   "outputs": [
    {
     "name": "stdout",
     "output_type": "stream",
     "text": [
      "I love you\n",
      "angel\n",
      "I love you\n",
      "joseph\n"
     ]
    }
   ],
   "source": [
    "# 子类对父类中的方法的补充\n",
    "\n",
    "class Person():\n",
    "    def hello(self):\n",
    "        print(\"I love you\")\n",
    "\n",
    "        \n",
    "class Children(Person):\n",
    "    def hello(self):\n",
    "        #采用父类名.方法名来获取父类中的方法的内容\n",
    "        #这个self很重要，因为用类名调用方法时候，类名不会作为参数穿进去。\n",
    "        Person.hello(self) \n",
    "        print(\"angel\")\n",
    "\n",
    "class Girl(Person):\n",
    "    def hello(self):\n",
    "        #这里采用super().方法名来获取父类中方法内容\n",
    "        super().hello() \n",
    "        print(\"joseph\")\n",
    "        \n",
    "joseph = Children()\n",
    "joseph.hello()\n",
    "\n",
    "\n",
    "angel = Girl()\n",
    "angel.hello()"
   ]
  },
  {
   "cell_type": "code",
   "execution_count": 10,
   "metadata": {},
   "outputs": [
    {
     "name": "stdout",
     "output_type": "stream",
     "text": [
      "This indicates that I am a dog\n",
      "This indicates that I am an animal\n"
     ]
    }
   ],
   "source": [
    "# 构造函数\n",
    "class Animal():\n",
    "    def __init__(self):\n",
    "        print(\"This indicates that I am an animal\")\n",
    "\n",
    "#dog中定义了构造函数\n",
    "class Dog(Animal):\n",
    "    def __init__(self):\n",
    "        print(\"This indicates that I am a dog\")\n",
    "\n",
    "#cat中没有定义构造函数\n",
    "class Cat(Animal):\n",
    "    pass\n",
    "\n",
    "dudu = Dog()\n",
    "\n",
    "mimi = Cat()"
   ]
  },
  {
   "cell_type": "code",
   "execution_count": 12,
   "metadata": {},
   "outputs": [
    {
     "name": "stdout",
     "output_type": "stream",
     "text": [
      "This indicates that I am a dog\n"
     ]
    },
    {
     "ename": "TypeError",
     "evalue": "__init__() missing 1 required positional argument: 'name'",
     "output_type": "error",
     "traceback": [
      "\u001b[1;31m---------------------------------------------------------------------------\u001b[0m",
      "\u001b[1;31mTypeError\u001b[0m                                 Traceback (most recent call last)",
      "\u001b[1;32m<ipython-input-12-8ffa003b9393>\u001b[0m in \u001b[0;36m<module>\u001b[1;34m()\u001b[0m\n\u001b[0;32m     16\u001b[0m \u001b[1;33m\u001b[0m\u001b[0m\n\u001b[0;32m     17\u001b[0m \u001b[1;31m# 这里会报错，因为调用父类中的构造函数，但是构造函数的参数不对，所以会出错\u001b[0m\u001b[1;33m\u001b[0m\u001b[1;33m\u001b[0m\u001b[0m\n\u001b[1;32m---> 18\u001b[1;33m \u001b[0mmimi\u001b[0m \u001b[1;33m=\u001b[0m \u001b[0mCat\u001b[0m\u001b[1;33m(\u001b[0m\u001b[1;33m)\u001b[0m\u001b[1;33m\u001b[0m\u001b[0m\n\u001b[0m",
      "\u001b[1;31mTypeError\u001b[0m: __init__() missing 1 required positional argument: 'name'"
     ]
    }
   ],
   "source": [
    "# 构造函数（面向对象应该叫构造方法吧，哈哈哈不管了）\n",
    "class Animal():\n",
    "    def __init__(self,name):\n",
    "        print(\"This indicates that I am an animal，name is {0}\".format(name))\n",
    "\n",
    "#dog中定义了构造函数\n",
    "class Dog(Animal):\n",
    "    def __init__(self):\n",
    "        print(\"This indicates that I am a dog\")\n",
    "\n",
    "#cat中没有定义构造函数\n",
    "class Cat(Animal):\n",
    "    pass\n",
    "\n",
    "dudu = Dog()\n",
    "\n",
    "# 这里会报错，因为调用父类中的构造函数，但是构造函数的参数不对，所以会出错\n",
    "mimi = Cat()"
   ]
  },
  {
   "cell_type": "code",
   "execution_count": 3,
   "metadata": {},
   "outputs": [
    {
     "name": "stdout",
     "output_type": "stream",
     "text": [
      "i can swim\n"
     ]
    }
   ],
   "source": [
    "#Mixin 的一个例子\n",
    "\n",
    "class Person():\n",
    "    pass\n",
    "\n",
    "class FishMixin():\n",
    "    def swim(self):\n",
    "        print(\"i can swim\")\n",
    "        \n",
    "class Student(Person,FishMixin):\n",
    "    pass\n",
    "\n",
    "\n",
    "tom = Student()\n",
    "tom.swim()\n"
   ]
  },
  {
   "cell_type": "code",
   "execution_count": null,
   "metadata": {},
   "outputs": [],
   "source": []
  }
 ],
 "metadata": {
  "kernelspec": {
   "display_name": "Python 3",
   "language": "python",
   "name": "python3"
  },
  "language_info": {
   "codemirror_mode": {
    "name": "ipython",
    "version": 3
   },
   "file_extension": ".py",
   "mimetype": "text/x-python",
   "name": "python",
   "nbconvert_exporter": "python",
   "pygments_lexer": "ipython3",
   "version": "3.6.4"
  }
 },
 "nbformat": 4,
 "nbformat_minor": 2
}
